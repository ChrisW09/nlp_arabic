{
 "cells": [
  {
   "cell_type": "markdown",
   "id": "0c979ccb",
   "metadata": {},
   "source": [
    "## Try handling RLM"
   ]
  },
  {
   "cell_type": "markdown",
   "id": "21515912",
   "metadata": {},
   "source": [
    "**RLM** is the right-to-left mark, a non-printing character. For arabic, however another non-printing character is recommended: Arabic letter mark (**ALM**).\n",
    "\n",
    "The way en-/decoding works:\n",
    "* encode: str -> bytes  \n",
    "* decode: bytes -> str   "
   ]
  },
  {
   "cell_type": "markdown",
   "id": "1bd8f33c",
   "metadata": {},
   "source": [
    "### Example ciao"
   ]
  },
  {
   "cell_type": "code",
   "execution_count": 2,
   "id": "cc50433e",
   "metadata": {},
   "outputs": [
    {
     "data": {
      "text/plain": [
       "'ciào'"
      ]
     },
     "execution_count": 2,
     "metadata": {},
     "output_type": "execute_result"
    }
   ],
   "source": [
    "word_string1 = 'ciào'\n",
    "word_string1"
   ]
  },
  {
   "cell_type": "code",
   "execution_count": 29,
   "id": "ad0d6511",
   "metadata": {},
   "outputs": [
    {
     "data": {
      "text/plain": [
       "b'ci\\xc3\\xa0o'"
      ]
     },
     "execution_count": 29,
     "metadata": {},
     "output_type": "execute_result"
    }
   ],
   "source": [
    "word_bytes1 = word_string1.encode('utf-8')\n",
    "word_bytes1"
   ]
  },
  {
   "cell_type": "code",
   "execution_count": 30,
   "id": "e9fe464b",
   "metadata": {},
   "outputs": [
    {
     "data": {
      "text/plain": [
       "b'ci\\xc3\\xa0o'"
      ]
     },
     "execution_count": 30,
     "metadata": {},
     "output_type": "execute_result"
    }
   ],
   "source": [
    "word_bytes2 = b'ci\\xc3\\xa0o'\n",
    "word_bytes2"
   ]
  },
  {
   "cell_type": "code",
   "execution_count": 50,
   "id": "62eaea92",
   "metadata": {},
   "outputs": [
    {
     "data": {
      "text/plain": [
       "'oàic'"
      ]
     },
     "execution_count": 50,
     "metadata": {},
     "output_type": "execute_result"
    }
   ],
   "source": [
    "word_string2 = word_bytes2.decode('utf-8')\n",
    "word_string2"
   ]
  },
  {
   "cell_type": "code",
   "execution_count": 33,
   "id": "5ed97e3a",
   "metadata": {},
   "outputs": [
    {
     "data": {
      "text/plain": [
       "'à'"
      ]
     },
     "execution_count": 33,
     "metadata": {},
     "output_type": "execute_result"
    }
   ],
   "source": [
    "# UTF-8 encoding: c3 a0 --> \\xc3\\xa0\n",
    "letter = b'\\xc3\\xa0'\n",
    "letter.decode('utf-8')"
   ]
  },
  {
   "cell_type": "markdown",
   "id": "e5e20795",
   "metadata": {},
   "source": [
    "### Example RLM"
   ]
  },
  {
   "cell_type": "code",
   "execution_count": 44,
   "id": "aa6effe4",
   "metadata": {},
   "outputs": [
    {
     "data": {
      "text/plain": [
       "'\\u200f'"
      ]
     },
     "execution_count": 44,
     "metadata": {},
     "output_type": "execute_result"
    }
   ],
   "source": [
    "RLM_bytes = b'\\xE2\\x80\\x8F'\n",
    "RLM_string = RLM_bytes.decode('utf-8')\n",
    "RLM_string"
   ]
  },
  {
   "cell_type": "code",
   "execution_count": 42,
   "id": "d770c365",
   "metadata": {},
   "outputs": [
    {
     "data": {
      "text/plain": [
       "'\\u200fciào'"
      ]
     },
     "execution_count": 42,
     "metadata": {},
     "output_type": "execute_result"
    }
   ],
   "source": [
    "text = RLM_string + word_string1\n",
    "text"
   ]
  },
  {
   "cell_type": "code",
   "execution_count": null,
   "id": "a06e6e4f",
   "metadata": {},
   "outputs": [],
   "source": [
    "import unicodedata\n",
    "unicodedata.lookup('RLM')"
   ]
  },
  {
   "cell_type": "markdown",
   "id": "be5d7839",
   "metadata": {},
   "source": [
    "Python does the encoding correctly for the RLM. However, it is not able to print the text from right to left according to the mark."
   ]
  },
  {
   "cell_type": "markdown",
   "id": "54d3b906",
   "metadata": {},
   "source": [
    "### Solution\n",
    "\n",
    "Just invert the strings by brute force"
   ]
  },
  {
   "cell_type": "code",
   "execution_count": 3,
   "id": "21ccbbdc",
   "metadata": {},
   "outputs": [
    {
     "data": {
      "text/plain": [
       "'oàic'"
      ]
     },
     "execution_count": 3,
     "metadata": {},
     "output_type": "execute_result"
    }
   ],
   "source": [
    "word_string1[::-1]"
   ]
  }
 ],
 "metadata": {
  "kernelspec": {
   "display_name": "arabpdf",
   "language": "python",
   "name": "arabpdf"
  },
  "language_info": {
   "codemirror_mode": {
    "name": "ipython",
    "version": 3
   },
   "file_extension": ".py",
   "mimetype": "text/x-python",
   "name": "python",
   "nbconvert_exporter": "python",
   "pygments_lexer": "ipython3",
   "version": "3.8.5"
  }
 },
 "nbformat": 4,
 "nbformat_minor": 5
}
