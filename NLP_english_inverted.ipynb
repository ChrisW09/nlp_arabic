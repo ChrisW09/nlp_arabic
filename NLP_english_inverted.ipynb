{
 "cells": [
  {
   "cell_type": "code",
   "execution_count": 3,
   "id": "9d0b6a5a",
   "metadata": {},
   "outputs": [
    {
     "name": "stderr",
     "output_type": "stream",
     "text": [
      "[nltk_data] Downloading package stopwords to /home/levin/nltk_data...\n",
      "[nltk_data]   Package stopwords is already up-to-date!\n"
     ]
    },
    {
     "data": {
      "text/plain": [
       "True"
      ]
     },
     "execution_count": 3,
     "metadata": {},
     "output_type": "execute_result"
    }
   ],
   "source": [
    "# Run in python console\n",
    "import nltk; nltk.download('stopwords')\n",
    "\n",
    "# Run in terminal or command prompt\n",
    "#python3 -m spacy download en"
   ]
  },
  {
   "cell_type": "code",
   "execution_count": 4,
   "id": "29f7414f",
   "metadata": {},
   "outputs": [
    {
     "name": "stderr",
     "output_type": "stream",
     "text": [
      "/home/levin/Python/arabpdf/lib/python3.8/site-packages/gensim/similarities/__init__.py:15: UserWarning: The gensim.similarities.levenshtein submodule is disabled, because the optional Levenshtein package <https://pypi.org/project/python-Levenshtein/> is unavailable. Install Levenhstein (e.g. `pip install python-Levenshtein`) to suppress this warning.\n",
      "  warnings.warn(msg)\n"
     ]
    }
   ],
   "source": [
    "import re\n",
    "import numpy as np\n",
    "import pandas as pd\n",
    "from pprint import pprint\n",
    "\n",
    "# Gensim\n",
    "import gensim\n",
    "import gensim.corpora as corpora\n",
    "from gensim.utils import simple_preprocess\n",
    "from gensim.models import CoherenceModel\n",
    "\n",
    "# spacy for lemmatization\n",
    "import spacy\n",
    "\n",
    "# Plotting tools\n",
    "import pyLDAvis\n",
    "import matplotlib.pyplot as plt\n",
    "\n",
    "\n",
    "# Enable logging for gensim - optional\n",
    "import logging\n",
    "logging.basicConfig(format='%(asctime)s : %(levelname)s : %(message)s', level=logging.ERROR)\n",
    "\n",
    "import warnings\n",
    "warnings.filterwarnings(\"ignore\",category=DeprecationWarning)"
   ]
  },
  {
   "cell_type": "code",
   "execution_count": 5,
   "id": "76b16910",
   "metadata": {},
   "outputs": [],
   "source": [
    "# NLTK Stop words\n",
    "from nltk.corpus import stopwords\n",
    "stop_words = stopwords.words('english')\n",
    "stop_words.extend(['from', 'subject', 're', 'edu', 'use'])"
   ]
  },
  {
   "cell_type": "code",
   "execution_count": 6,
   "id": "65413fa0",
   "metadata": {},
   "outputs": [
    {
     "name": "stdout",
     "output_type": "stream",
     "text": [
      "['rec.autos' 'comp.sys.mac.hardware' 'comp.graphics' 'sci.space'\n",
      " 'talk.politics.guns' 'sci.med' 'comp.sys.ibm.pc.hardware'\n",
      " 'comp.os.ms-windows.misc' 'rec.motorcycles' 'talk.religion.misc'\n",
      " 'misc.forsale' 'alt.atheism' 'sci.electronics' 'comp.windows.x'\n",
      " 'rec.sport.hockey' 'rec.sport.baseball' 'soc.religion.christian'\n",
      " 'talk.politics.mideast' 'talk.politics.misc' 'sci.crypt']\n"
     ]
    },
    {
     "data": {
      "text/html": [
       "<div>\n",
       "<style scoped>\n",
       "    .dataframe tbody tr th:only-of-type {\n",
       "        vertical-align: middle;\n",
       "    }\n",
       "\n",
       "    .dataframe tbody tr th {\n",
       "        vertical-align: top;\n",
       "    }\n",
       "\n",
       "    .dataframe thead th {\n",
       "        text-align: right;\n",
       "    }\n",
       "</style>\n",
       "<table border=\"1\" class=\"dataframe\">\n",
       "  <thead>\n",
       "    <tr style=\"text-align: right;\">\n",
       "      <th></th>\n",
       "      <th>content</th>\n",
       "      <th>target</th>\n",
       "      <th>target_names</th>\n",
       "    </tr>\n",
       "  </thead>\n",
       "  <tbody>\n",
       "    <tr>\n",
       "      <th>0</th>\n",
       "      <td>From: lerxst@wam.umd.edu (where's my thing)\\nS...</td>\n",
       "      <td>7</td>\n",
       "      <td>rec.autos</td>\n",
       "    </tr>\n",
       "    <tr>\n",
       "      <th>1</th>\n",
       "      <td>From: guykuo@carson.u.washington.edu (Guy Kuo)...</td>\n",
       "      <td>4</td>\n",
       "      <td>comp.sys.mac.hardware</td>\n",
       "    </tr>\n",
       "    <tr>\n",
       "      <th>2</th>\n",
       "      <td>From: twillis@ec.ecn.purdue.edu (Thomas E Will...</td>\n",
       "      <td>4</td>\n",
       "      <td>comp.sys.mac.hardware</td>\n",
       "    </tr>\n",
       "    <tr>\n",
       "      <th>3</th>\n",
       "      <td>From: jgreen@amber (Joe Green)\\nSubject: Re: W...</td>\n",
       "      <td>1</td>\n",
       "      <td>comp.graphics</td>\n",
       "    </tr>\n",
       "    <tr>\n",
       "      <th>4</th>\n",
       "      <td>From: jcm@head-cfa.harvard.edu (Jonathan McDow...</td>\n",
       "      <td>14</td>\n",
       "      <td>sci.space</td>\n",
       "    </tr>\n",
       "  </tbody>\n",
       "</table>\n",
       "</div>"
      ],
      "text/plain": [
       "                                             content  target  \\\n",
       "0  From: lerxst@wam.umd.edu (where's my thing)\\nS...       7   \n",
       "1  From: guykuo@carson.u.washington.edu (Guy Kuo)...       4   \n",
       "2  From: twillis@ec.ecn.purdue.edu (Thomas E Will...       4   \n",
       "3  From: jgreen@amber (Joe Green)\\nSubject: Re: W...       1   \n",
       "4  From: jcm@head-cfa.harvard.edu (Jonathan McDow...      14   \n",
       "\n",
       "            target_names  \n",
       "0              rec.autos  \n",
       "1  comp.sys.mac.hardware  \n",
       "2  comp.sys.mac.hardware  \n",
       "3          comp.graphics  \n",
       "4              sci.space  "
      ]
     },
     "execution_count": 6,
     "metadata": {},
     "output_type": "execute_result"
    }
   ],
   "source": [
    "# Import Dataset\n",
    "df = pd.read_json('https://raw.githubusercontent.com/selva86/datasets/master/newsgroups.json')\n",
    "print(df.target_names.unique())\n",
    "df.head()"
   ]
  },
  {
   "cell_type": "code",
   "execution_count": 7,
   "id": "f293a261",
   "metadata": {},
   "outputs": [
    {
     "name": "stdout",
     "output_type": "stream",
     "text": [
      "['From: (wheres my thing) Subject: WHAT car is this!? Nntp-Posting-Host: '\n",
      " 'rac3.wam.umd.edu Organization: University of Maryland, College Park Lines: '\n",
      " '15 I was wondering if anyone out there could enlighten me on this car I saw '\n",
      " 'the other day. It was a 2-door sports car, looked to be from the late 60s/ '\n",
      " 'early 70s. It was called a Bricklin. The doors were really small. In '\n",
      " 'addition, the front bumper was separate from the rest of the body. This is '\n",
      " 'all I know. If anyone can tellme a model name, engine specs, years of '\n",
      " 'production, where this car is made, history, or whatever info you have on '\n",
      " 'this funky looking car, please e-mail. Thanks, - IL ---- brought to you by '\n",
      " 'your neighborhood Lerxst ---- ']\n"
     ]
    }
   ],
   "source": [
    "# Convert to list\n",
    "data = df.content.values.tolist()\n",
    "\n",
    "# Remove Emails\n",
    "data = [re.sub('\\S*@\\S*\\s?', '', sent) for sent in data]\n",
    "\n",
    "# Remove new line characters\n",
    "data = [re.sub('\\s+', ' ', sent) for sent in data]\n",
    "\n",
    "# Remove distracting single quotes\n",
    "data = [re.sub(\"\\'\", \"\", sent) for sent in data]\n",
    "\n",
    "pprint(data[:1])"
   ]
  },
  {
   "cell_type": "code",
   "execution_count": 8,
   "id": "0304d876",
   "metadata": {},
   "outputs": [
    {
     "name": "stdout",
     "output_type": "stream",
     "text": [
      "[['from', 'wheres', 'my', 'thing', 'subject', 'what', 'car', 'is', 'this', 'nntp', 'posting', 'host', 'rac', 'wam', 'umd', 'edu', 'organization', 'university', 'of', 'maryland', 'college', 'park', 'lines', 'was', 'wondering', 'if', 'anyone', 'out', 'there', 'could', 'enlighten', 'me', 'on', 'this', 'car', 'saw', 'the', 'other', 'day', 'it', 'was', 'door', 'sports', 'car', 'looked', 'to', 'be', 'from', 'the', 'late', 'early', 'it', 'was', 'called', 'bricklin', 'the', 'doors', 'were', 'really', 'small', 'in', 'addition', 'the', 'front', 'bumper', 'was', 'separate', 'from', 'the', 'rest', 'of', 'the', 'body', 'this', 'is', 'all', 'know', 'if', 'anyone', 'can', 'tellme', 'model', 'name', 'engine', 'specs', 'years', 'of', 'production', 'where', 'this', 'car', 'is', 'made', 'history', 'or', 'whatever', 'info', 'you', 'have', 'on', 'this', 'funky', 'looking', 'car', 'please', 'mail', 'thanks', 'il', 'brought', 'to', 'you', 'by', 'your', 'neighborhood', 'lerxst']]\n"
     ]
    }
   ],
   "source": [
    "def sent_to_words(sentences):\n",
    "    for sentence in sentences:\n",
    "        yield(gensim.utils.simple_preprocess(str(sentence), deacc=True))  # deacc=True removes punctuations\n",
    "\n",
    "data_words = list(sent_to_words(data))\n",
    "\n",
    "print(data_words[:1])"
   ]
  },
  {
   "cell_type": "code",
   "execution_count": 9,
   "id": "f473a0f1",
   "metadata": {},
   "outputs": [
    {
     "name": "stdout",
     "output_type": "stream",
     "text": [
      "['from', 'wheres', 'my', 'thing', 'subject', 'what', 'car', 'is', 'this', 'nntp_posting_host', 'rac_wam_umd_edu', 'organization', 'university', 'of', 'maryland_college_park', 'lines', 'was', 'wondering', 'if', 'anyone', 'out', 'there', 'could', 'enlighten', 'me', 'on', 'this', 'car', 'saw', 'the', 'other', 'day', 'it', 'was', 'door', 'sports', 'car', 'looked', 'to', 'be', 'from', 'the', 'late', 'early', 'it', 'was', 'called', 'bricklin', 'the', 'doors', 'were', 'really', 'small', 'in', 'addition', 'the', 'front_bumper', 'was', 'separate', 'from', 'the', 'rest', 'of', 'the', 'body', 'this', 'is', 'all', 'know', 'if', 'anyone', 'can', 'tellme', 'model', 'name', 'engine', 'specs', 'years', 'of', 'production', 'where', 'this', 'car', 'is', 'made', 'history', 'or', 'whatever', 'info', 'you', 'have', 'on', 'this', 'funky', 'looking', 'car', 'please', 'mail', 'thanks', 'il', 'brought', 'to', 'you', 'by', 'your', 'neighborhood', 'lerxst']\n"
     ]
    }
   ],
   "source": [
    "# Build the bigram and trigram models\n",
    "bigram = gensim.models.Phrases(data_words, min_count=5, threshold=100) # higher threshold fewer phrases.\n",
    "trigram = gensim.models.Phrases(bigram[data_words], threshold=100)  \n",
    "\n",
    "# Faster way to get a sentence clubbed as a trigram/bigram\n",
    "bigram_mod = gensim.models.phrases.Phraser(bigram)\n",
    "trigram_mod = gensim.models.phrases.Phraser(trigram)\n",
    "\n",
    "# See trigram example\n",
    "print(trigram_mod[bigram_mod[data_words[0]]])"
   ]
  },
  {
   "cell_type": "code",
   "execution_count": 10,
   "id": "32925750",
   "metadata": {},
   "outputs": [],
   "source": [
    "# Define functions for stopwords, bigrams, trigrams and lemmatization\n",
    "def remove_stopwords(texts):\n",
    "    return [[word for word in simple_preprocess(str(doc)) if word not in stop_words] for doc in texts]\n",
    "\n",
    "def make_bigrams(texts):\n",
    "    return [bigram_mod[doc] for doc in texts]\n",
    "\n",
    "def make_trigrams(texts):\n",
    "    return [trigram_mod[bigram_mod[doc]] for doc in texts]\n",
    "\n",
    "def lemmatization(texts, allowed_postags=['NOUN', 'ADJ', 'VERB', 'ADV']):\n",
    "    \"\"\"https://spacy.io/api/annotation\"\"\"\n",
    "    texts_out = []\n",
    "    for sent in texts:\n",
    "        doc = nlp(\" \".join(sent)) \n",
    "        texts_out.append([token.lemma_ for token in doc if token.pos_ in allowed_postags])\n",
    "    return texts_out"
   ]
  },
  {
   "cell_type": "code",
   "execution_count": 11,
   "id": "07dbb363",
   "metadata": {},
   "outputs": [
    {
     "name": "stdout",
     "output_type": "stream",
     "text": [
      "[['where', 's', 'thing', 'car', 'nntp_poste', 'host', 'rac_wam', 'umd', 'organization', 'university', 'park', 'line', 'wonder', 'enlighten', 'car', 'saw', 'day', 'door', 'sport', 'car', 'look', 'late', 'early', 'call', 'bricklin', 'door', 'really', 'small', 'addition', 'separate', 'rest', 'body', 'know', 'tellme', 'model', 'name', 'engine', 'spec', 'year', 'production', 'car', 'make', 'history', 'info', 'funky', 'look', 'car', 'mail', 'thank', 'bring', 'neighborhood', 'lerxst']]\n"
     ]
    }
   ],
   "source": [
    "# Remove Stop Words\n",
    "data_words_nostops = remove_stopwords(data_words)\n",
    "\n",
    "# Form Bigrams\n",
    "data_words_bigrams = make_bigrams(data_words_nostops)\n",
    "\n",
    "# Initialize spacy 'en' model, keeping only tagger component (for efficiency)\n",
    "# python3 -m spacy download en\n",
    "nlp = spacy.load(\"en_core_web_sm\")\n",
    "\n",
    "# Do lemmatization keeping only noun, adj, vb, adv\n",
    "data_lemmatized = lemmatization(data_words_bigrams, allowed_postags=['NOUN', 'ADJ', 'VERB', 'ADV'])\n",
    "\n",
    "print(data_lemmatized[:1])"
   ]
  },
  {
   "cell_type": "markdown",
   "id": "82ad0723",
   "metadata": {},
   "source": [
    "### Try Inverting Words"
   ]
  },
  {
   "cell_type": "code",
   "execution_count": 12,
   "id": "8e43f094",
   "metadata": {},
   "outputs": [],
   "source": [
    "data_words_nostops_inverted = []\n",
    "for i in data_lemmatized:\n",
    "    temp = [j[::-1] for j in i]\n",
    "    data_words_nostops_inverted.append(temp)"
   ]
  },
  {
   "cell_type": "markdown",
   "id": "e0f1662d",
   "metadata": {},
   "source": [
    "### Continue gensim procedure"
   ]
  },
  {
   "cell_type": "code",
   "execution_count": 13,
   "id": "7c2b5297",
   "metadata": {},
   "outputs": [
    {
     "name": "stdout",
     "output_type": "stream",
     "text": [
      "[[(0, 1), (1, 1), (2, 1), (3, 1), (4, 1), (5, 1), (6, 1), (7, 1), (8, 1), (9, 1), (10, 1), (11, 1), (12, 1), (13, 1), (14, 1), (15, 2), (16, 1), (17, 1), (18, 1), (19, 1), (20, 1), (21, 1), (22, 1), (23, 1), (24, 1), (25, 1), (26, 1), (27, 1), (28, 5), (29, 1), (30, 1), (31, 2), (32, 1), (33, 1), (34, 1), (35, 1), (36, 1), (37, 1), (38, 1), (39, 1), (40, 1), (41, 1), (42, 1), (43, 1), (44, 1), (45, 1)]]\n"
     ]
    }
   ],
   "source": [
    "# Create Dictionary\n",
    "id2word = corpora.Dictionary(data_words_nostops_inverted)\n",
    "\n",
    "# Create Corpus\n",
    "texts = data_words_nostops_inverted\n",
    "\n",
    "# Term Document Frequency\n",
    "corpus = [id2word.doc2bow(text) for text in texts]\n",
    "\n",
    "# View\n",
    "print(corpus[:1])"
   ]
  },
  {
   "cell_type": "code",
   "execution_count": 14,
   "id": "82a35a28",
   "metadata": {},
   "outputs": [
    {
     "data": {
      "text/plain": [
       "[[('ceps', 1),\n",
       "  ('dmu', 1),\n",
       "  ('doohrobhgien', 1),\n",
       "  ('ekam', 1),\n",
       "  ('eman', 1),\n",
       "  ('emllet', 1),\n",
       "  ('enigne', 1),\n",
       "  ('enil', 1),\n",
       "  ('erehw', 1),\n",
       "  ('etal', 1),\n",
       "  ('etarapes', 1),\n",
       "  ('etsop_ptnn', 1),\n",
       "  ('gniht', 1),\n",
       "  ('gnirb', 1),\n",
       "  ('knaht', 1),\n",
       "  ('kool', 2),\n",
       "  ('krap', 1),\n",
       "  ('ledom', 1),\n",
       "  ('liam', 1),\n",
       "  ('llac', 1),\n",
       "  ('llams', 1),\n",
       "  ('maw_car', 1),\n",
       "  ('nethgilne', 1),\n",
       "  ('nilkcirb', 1),\n",
       "  ('noitazinagro', 1),\n",
       "  ('noitcudorp', 1),\n",
       "  ('noitidda', 1),\n",
       "  ('ofni', 1),\n",
       "  ('rac', 5),\n",
       "  ('raey', 1),\n",
       "  ('rednow', 1),\n",
       "  ('rood', 2),\n",
       "  ('s', 1),\n",
       "  ('trops', 1),\n",
       "  ('tser', 1),\n",
       "  ('tsoh', 1),\n",
       "  ('tsxrel', 1),\n",
       "  ('was', 1),\n",
       "  ('wonk', 1),\n",
       "  ('yad', 1),\n",
       "  ('ydob', 1),\n",
       "  ('yknuf', 1),\n",
       "  ('yllaer', 1),\n",
       "  ('ylrae', 1),\n",
       "  ('yrotsih', 1),\n",
       "  ('ytisrevinu', 1)]]"
      ]
     },
     "execution_count": 14,
     "metadata": {},
     "output_type": "execute_result"
    }
   ],
   "source": [
    "# Human readable format of corpus (term-frequency)\n",
    "[[(id2word[id], freq) for id, freq in cp] for cp in corpus[:1]]"
   ]
  },
  {
   "cell_type": "code",
   "execution_count": 15,
   "id": "bf785849",
   "metadata": {},
   "outputs": [],
   "source": [
    "# Build LDA model\n",
    "lda_model = gensim.models.ldamodel.LdaModel(corpus=corpus,\n",
    "                                           id2word=id2word,\n",
    "                                           num_topics=20, \n",
    "                                           random_state=100,\n",
    "                                           update_every=1,\n",
    "                                           chunksize=100,\n",
    "                                           passes=10,\n",
    "                                           alpha='auto',\n",
    "                                           per_word_topics=True)"
   ]
  },
  {
   "cell_type": "code",
   "execution_count": 16,
   "id": "ce07f581",
   "metadata": {},
   "outputs": [
    {
     "name": "stdout",
     "output_type": "stream",
     "text": [
      "[(0,\n",
      "  '0.075*\"evird\" + 0.062*\"wodniw\" + 0.046*\"drac\" + 0.035*\"cam\" + '\n",
      "  '0.033*\"revird\" + 0.026*\"upc\" + 0.024*\"melborp\" + 0.023*\"yromem\" + '\n",
      "  '0.021*\"cihparg\" + 0.021*\"neercs\"'),\n",
      " (1,\n",
      "  '0.060*\"evets\" + 0.054*\"weiver\" + 0.030*\"enalp\" + 0.024*\"naidanac\" + '\n",
      "  '0.023*\"retaw\" + 0.022*\"pam\" + 0.020*\"raelcun\" + 0.020*\"ecnerefnoc\" + '\n",
      "  '0.020*\"noitartsiger\" + 0.019*\"ailartsua\"'),\n",
      " (2,\n",
      "  '0.097*\"enil\" + 0.087*\"noitazinagro\" + 0.051*\"etsop_ptnn\" + '\n",
      "  '0.048*\"ytisrevinu\" + 0.046*\"tsoh\" + 0.026*\"ylper\" + 0.024*\"knaht\" + '\n",
      "  '0.020*\"liam\" + 0.016*\"tsop\" + 0.013*\"pleh\"'),\n",
      " (3,\n",
      "  '0.089*\"ap\" + 0.058*\"retnirp\" + 0.050*\"sm\" + 0.033*\"yob\" + 0.031*\"aissur\" + '\n",
      "  '0.018*\"noitcerroc\" + 0.016*\"tluc\" + 0.010*\"rev\" + 0.006*\"ynomrah\" + '\n",
      "  '0.005*\"enegue\"'),\n",
      " (4,\n",
      "  '0.033*\"llik\" + 0.030*\"nainemra\" + 0.027*\"raw\" + 0.025*\"reidlos\" + '\n",
      "  '0.023*\"keerg\" + 0.022*\"egalliv\" + 0.019*\"redrum\" + 0.019*\"krut\" + '\n",
      "  '0.018*\"htaed\" + 0.017*\"milsum\"'),\n",
      " (5,\n",
      "  '0.173*\"nug\" + 0.053*\"mraerif\" + 0.049*\"nopaew\" + 0.026*\"emirc\" + '\n",
      "  '0.017*\"dnalnif\" + 0.016*\"tekcap\" + 0.016*\"nugdnah\" + 0.013*\"if\" + '\n",
      "  '0.011*\"nugtohs\" + 0.010*\"reffub\"'),\n",
      " (6,\n",
      "  '0.032*\"dog\" + 0.027*\"elpoep\" + 0.025*\"yas\" + 0.024*\"eveileb\" + '\n",
      "  '0.019*\"nosaer\" + 0.017*\"naitsirhc\" + 0.015*\"mialc\" + 0.013*\"esnes\" + '\n",
      "  '0.012*\"nam\" + 0.011*\"tsixe\"'),\n",
      " (7,\n",
      "  '0.112*\"learsi\" + 0.060*\"ilearsi\" + 0.039*\"wej\" + 0.036*\"bara\" + '\n",
      "  '0.035*\"hsiwej\" + 0.031*\"suoires\" + 0.026*\"nos\" + 0.025*\"ecaep\" + '\n",
      "  '0.025*\"rehtaf\" + 0.024*\"dnal\"'),\n",
      " (8,\n",
      "  '0.132*\"ecaps\" + 0.034*\"htrae\" + 0.033*\"hcnual\" + 0.030*\"noom\" + '\n",
      "  '0.030*\"asan\" + 0.029*\"noissim\" + 0.028*\"tibro\" + 0.024*\"etilletas\" + '\n",
      "  '0.022*\"nagihcim\" + 0.020*\"ram\"'),\n",
      " (9,\n",
      "  '0.022*\"etirw\" + 0.018*\"elcitra\" + 0.015*\"teg\" + 0.012*\"ekam\" + 0.012*\"wonk\" '\n",
      "  '+ 0.012*\"og\" + 0.011*\"emit\" + 0.011*\"doog\" + 0.011*\"llew\" + 0.011*\"kniht\"'),\n",
      " (10,\n",
      "  '0.031*\"etats\" + 0.023*\"tnemnrevog\" + 0.019*\"cilbup\" + 0.017*\"troper\" + '\n",
      "  '0.015*\"eussi\" + 0.014*\"nacirema\" + 0.014*\"reyalp\" + 0.013*\"thgir\" + '\n",
      "  '0.012*\"esac\" + 0.011*\"puorg\"'),\n",
      " (11,\n",
      "  '0.098*\"nip\" + 0.040*\"rossecorp\" + 0.026*\"dnab\" + 0.025*\"cinhte\" + '\n",
      "  '0.023*\"retep\" + 0.022*\"detaler\" + 0.020*\"egnahcxe\" + 0.019*\"riaf\" + '\n",
      "  '0.017*\"rekaeps\" + 0.016*\"elasrof\"'),\n",
      " (12,\n",
      "  '0.041*\"metsys\" + 0.031*\"esu\" + 0.024*\"yek\" + 0.021*\"margorp\" + 0.018*\"elif\" '\n",
      "  '+ 0.013*\"tib\" + 0.013*\"pihc\" + 0.012*\"elbaliava\" + 0.012*\"mutad\" + '\n",
      "  '0.011*\"ecruos\"'),\n",
      " (13,\n",
      "  '0.075*\"ecnedive\" + 0.049*\"wal\" + 0.034*\"dlihc\" + 0.024*\"feileb\" + '\n",
      "  '0.024*\"tsiehta\" + 0.024*\"tneitap\" + 0.022*\"hcruhc\" + 0.019*\"yduts\" + '\n",
      "  '0.018*\"gurd\" + 0.017*\"noisulcnoc\"'),\n",
      " (14,\n",
      "  '0.048*\"tupni\" + 0.039*\"eciton\" + 0.037*\"lanretni\" + 0.030*\"lanretxe\" + '\n",
      "  '0.027*\"rotcod\" + 0.026*\"drahcir\" + 0.026*\"yrotcerid\" + 0.021*\"buc\" + '\n",
      "  '0.021*\"noitatskrow\" + 0.020*\"pac\"'),\n",
      " (15,\n",
      "  '0.064*\"maet\" + 0.064*\"emag\" + 0.040*\"yalp\" + 0.020*\"nosaes\" + 0.019*\"naf\" + '\n",
      "  '0.019*\"eriw\" + 0.018*\"raey\" + 0.016*\"noisivid\" + 0.016*\"lhn\" + '\n",
      "  '0.016*\"rellortnoc\"'),\n",
      " (16,\n",
      "  '0.047*\"rotinom\" + 0.034*\"lamron\" + 0.030*\"erif\" + 0.028*\"lairt\" + '\n",
      "  '0.025*\"tekram\" + 0.024*\"asn\" + 0.022*\"ibf\" + 0.021*\"nairb\" + 0.021*\"esucxe\" '\n",
      "  '+ 0.017*\"kcolb\"'),\n",
      " (17,\n",
      "  '0.030*\"hcraeser\" + 0.027*\"elas\" + 0.024*\"retnec\" + 0.024*\"lles\" + '\n",
      "  '0.023*\"ecirp\" + 0.022*\"ygolonhcet\" + 0.020*\"ecivres\" + 0.020*\"wen\" + '\n",
      "  '0.019*\"tsoc\" + 0.016*\"yap\"'),\n",
      " (18,\n",
      "  '0.627*\"xa\" + 0.104*\"_\" + 0.050*\"xam\" + 0.019*\"an_noitubirtsid\" + '\n",
      "  '0.007*\"tifeneb\" + 0.007*\"nworb\" + 0.006*\"um\" + 0.005*\"m\" + 0.005*\"rm\" + '\n",
      "  '0.004*\"mas\"'),\n",
      " (19,\n",
      "  '0.128*\"rac\" + 0.034*\"enigne\" + 0.028*\"tae\" + 0.028*\"evird\" + '\n",
      "  '0.021*\"ecnarusni\" + 0.021*\"cs\" + 0.020*\"evisnepxe\" + 0.018*\"elim\" + '\n",
      "  '0.017*\"yub\" + 0.016*\"relaed\"')]\n"
     ]
    }
   ],
   "source": [
    "# Print the Keyword in the 10 topics\n",
    "pprint(lda_model.print_topics())\n",
    "doc_lda = lda_model[corpus]"
   ]
  },
  {
   "cell_type": "code",
   "execution_count": 17,
   "id": "d5ec6483",
   "metadata": {},
   "outputs": [
    {
     "name": "stdout",
     "output_type": "stream",
     "text": [
      "\n",
      "Perplexity:  -14.364487207780734\n",
      "\n",
      "Coherence Score:  0.5182625811151266\n"
     ]
    }
   ],
   "source": [
    "# Compute Perplexity\n",
    "print('\\nPerplexity: ', lda_model.log_perplexity(corpus))  # a measure of how good the model is. lower the better.\n",
    "\n",
    "# Compute Coherence Score\n",
    "coherence_model_lda = CoherenceModel(model=lda_model, texts=data_words_nostops_inverted, dictionary=id2word, coherence='c_v')\n",
    "coherence_lda = coherence_model_lda.get_coherence()\n",
    "print('\\nCoherence Score: ', coherence_lda)"
   ]
  },
  {
   "cell_type": "code",
   "execution_count": 18,
   "id": "946b0bd3",
   "metadata": {},
   "outputs": [
    {
     "data": {
      "text/html": [
       "\n",
       "<link rel=\"stylesheet\" type=\"text/css\" href=\"https://cdn.jsdelivr.net/gh/bmabey/pyLDAvis@3.3.1/pyLDAvis/js/ldavis.v1.0.0.css\">\n",
       "\n",
       "\n",
       "<div id=\"ldavis_el165291402063565448644441036175\"></div>\n",
       "<script type=\"text/javascript\">\n",
       "\n",
       "var ldavis_el165291402063565448644441036175_data = {\"mdsDat\": {\"x\": [-0.35998446873144746, -0.25266090942060565, -0.23523554736169003, -0.30191437696211987, -0.1706294221298188, 0.022620893465223935, -0.0644200812289776, -0.020961541138611716, 0.002082445705094578, -0.009419019046532369, 0.00944471658061344, 0.11588240726840039, 0.12691188171864096, 0.1408048740819553, 0.15073974974139762, 0.1263559882611868, 0.16858333829182182, 0.17541296357696382, 0.18108688846992096, 0.19529921885858373], \"y\": [0.058512740944313794, -0.14824016901217069, -0.17021537295419914, 0.177762327713451, 0.1947533604670938, -0.03690069142804256, -0.1508383190689221, -0.2201331906331273, -0.0013460776100364055, 0.04828828180536913, 0.170726615050945, -0.08170265908578199, 0.031188184219882738, 0.018170933032845334, 0.013389948162686436, 0.011965892207631165, 0.01811401074607506, 0.026873721070232486, 0.018998069300005048, 0.020632395071748695], \"topics\": [1, 2, 3, 4, 5, 6, 7, 8, 9, 10, 11, 12, 13, 14, 15, 16, 17, 18, 19, 20], \"cluster\": [1, 1, 1, 1, 1, 1, 1, 1, 1, 1, 1, 1, 1, 1, 1, 1, 1, 1, 1, 1], \"Freq\": [41.62488596116754, 9.766968484422907, 9.288859723886688, 8.730195156174197, 5.9486565366214466, 5.544736204703528, 3.5843676274657046, 2.6047245055895454, 2.5984673325784042, 2.4830971785606604, 1.9086152777662384, 0.9476638141235089, 0.9109903247226534, 0.8723785834781084, 0.8512754685977076, 0.8145116705401525, 0.5519486640647122, 0.4387759783477606, 0.34687319487588864, 0.18200831231264314]}, \"tinfo\": {\"Term\": [\"xa\", \"enil\", \"noitazinagro\", \"_\", \"etsop_ptnn\", \"ytisrevinu\", \"tsoh\", \"elpoep\", \"metsys\", \"esu\", \"yas\", \"xam\", \"evird\", \"melborp\", \"ecnedive\", \"raey\", \"dog\", \"etirw\", \"elcitra\", \"maet\", \"emag\", \"etats\", \"wodniw\", \"ylper\", \"rac\", \"yek\", \"knaht\", \"teg\", \"ecaps\", \"eveileb\", \"elcitra\", \"og\", \"emit\", \"doog\", \"ekat\", \"hcum\", \"yllaer\", \"s\", \"kcab\", \"llits\", \"erus\", \"llew\", \"gnol\", \"dab\", \"trats\", \"dlo\", \"elttil\", \"raeh\", \"taerg\", \"tol\", \"tup\", \"ylbaborp\", \"niw\", \"hguone\", \"gib\", \"ebyam\", \"lli\", \"esol\", \"nrut\", \"rebmemer\", \"peek\", \"teg\", \"d\", \"tel\", \"etirw\", \"ekam\", \"ees\", \"tsrif\", \"wonk\", \"tnaw\", \"kniht\", \"yad\", \"yaw\", \"evig\", \"gniht\", \"m\", \"emoc\", \"neve\", \"llet\", \"yrt\", \"yas\", \"krow\", \"osla\", \"raey\", \"enil\", \"noitazinagro\", \"elpoep\", \"yek\", \"margorp\", \"pihc\", \"elbaliava\", \"mutad\", \"edoc\", \"noisrev\", \"tenretni\", \"resu\", \"noitacilppa\", \"oediv\", \"noitpyrcne\", \"ssecca\", \"revres\", \"cp\", \"noitcnuf\", \"reppilc\", \"elppa\", \"mhtirogla\", \"esuom\", \"xinu\", \"ylimaf\", \"yrarbil\", \"fitom\", \"latigid\", \"pat\", \"asr\", \"pihc_reppilc\", \"erutaef\", \"mbi\", \"metsys\", \"elif\", \"tset\", \"erawtfos\", \"qaf\", \"esu\", \"ecruos\", \"tib\", \"nus\", \"dradnats\", \"moc\", \"ecived\", \"edulcni\", \"noitamrofni\", \"tes\", \"dliub\", \"osla\", \"troppus\", \"deen\", \"nur\", \"edivorp\", \"knaht\", \"liam\", \"liame\", \"ofni\", \"egami\", \"yrtne\", \"ecnavda\", \"roloc\", \"gnireenigne\", \"etaicerppa\", \"nacs\", \"retcarahc\", \"lp_noisrev\", \"sionilli\", \"ylbissop\", \"etadpu\", \"saxet\", \"edargpu\", \"cinortcele\", \"tsoh\", \"tnof\", \"sirhc\", \"fig\", \"noisnapxe\", \"noitcudorp\", \"yar\", \"yppolf\", \"noci\", \"luos\", \"reviecer\", \"etsop_ptnn\", \"drowyek\", \"tped\", \"eloh\", \"ytisrevinu\", \"fles\", \"ylper\", \"sserdda\", \"enil\", \"noitazinagro\", \"dnes\", \"cni\", \"detseretni\", \"xaf\", \"tsop\", \"asu\", \"pleh\", \"retupmoc\", \"tsil\", \"ypoc\", \"swen\", \"noitseuq\", \"puorg\", \"deen\", \"kool\", \"dnif\", \"daer\", \"dog\", \"naitsirhc\", \"mialc\", \"esnes\", \"htiaf\", \"elbib\", \"tnemugra\", \"tpecca\", \"evorp\", \"eid\", \"hturt\", \"namuh\", \"tnemetats\", \"ytinaitsirhc\", \"tsirhc\", \"deedni\", \"noitalever\", \"erutan\", \"egdelwonk\", \"erofereht\", \"larom\", \"ecnivnoc\", \"noitaterpretni\", \"lamina\", \"yawetag\", \"evitcejbo\", \"tfig\", \"tcejer\", \"erutpircs\", \"etabed\", \"eveileb\", \"klat\", \"drow\", \"tsixe\", \"noigiler\", \"efil\", \"nosaer\", \"nialpxe\", \"nam\", \"elpoep\", \"eurt\", \"yas\", \"tcaf\", \"weiv\", \"koob\", \"nosrep\", \"naem\", \"noitseuq\", \"ynam\", \"kniht\", \"wollof\", \"nacirema\", \"reyalp\", \"epat\", \"tcetorp\", \"llib\", \"hsilbup\", \"ytinummoc\", \"notnilc\", \"lairetam\", \"ycnega\", \"llabesab\", \"thgiew\", \"esahcrup\", \"truoc\", \"rotcaf\", \"tenesu\", \"tnacifingis\", \"etov\", \"ylralucitrap\", \"hcram\", \"nrehtron\", \"xat\", \"noitcetorp\", \"laredef\", \"ssergnoc\", \"esoporp\", \"tcapmi\", \"etats_detinu\", \"yrettab\", \"kees\", \"troper\", \"nezitic\", \"rd\", \"tnarg\", \"cilbup\", \"tnemnrevog\", \"rebmem\", \"niatbo\", \"etats\", \"tseggus\", \"esaercni\", \"yrtnuoc\", \"lirpa\", \"eussi\", \"ksir\", \"etar\", \"lanoitan\", \"laudividni\", \"thgir\", \"puorg\", \"esac\", \"rm\", \"lortnoc\", \"troppus\", \"raey\", \"edivorp\", \"xa\", \"_\", \"xam\", \"an_noitubirtsid\", \"tifeneb\", \"nworb\", \"um\", \"mas\", \"sr\", \"pop\", \"llih\", \"drof\", \"ln\", \"atnalta\", \"tsin\", \"wm\", \"drakcap_ttelweh\", \"eeknay\", \"muidats\", \"tnerehni\", \"egnaro\", \"nossel\", \"kcirb\", \"elohssa\", \"oe\", \"xl\", \"gua\", \"ytilibani\", \"tnaillirb\", \"repmub\", \"om\", \"rm\", \"dm\", \"m\", \"hcraeser\", \"elas\", \"retsam\", \"tnediserp\", \"etavirp\", \"repap\", \"htlaeh\", \"eruces\", \"teem\", \"etuor\", \"tsurt\", \"pets\", \"tnemecnuonna\", \"mit\", \"tap\", \"aitilim\", \"erusne\", \"ics\", \"tenalp\", \"noitutitsnoc\", \"enoz\", \"laud\", \"htuos\", \"ytilicaf\", \"maerd\", \"oc\", \"sdc\", \"ytinutroppo\", \"sucof\", \"mrifnoc\", \"ecivres\", \"lles\", \"retnec\", \"ii\", \"etutitsni\", \"ecirp\", \"eciffo\", \"etaicossa\", \"tsoc\", \"reffo\", \"tisiv\", \"ygolonhcet\", \"lanoitanretni\", \"ynapmoc\", \"yap\", \"egap\", \"revoc\", \"wen\", \"edulcni\", \"yrotarobal\", \"wodniw\", \"drac\", \"cam\", \"upc\", \"yromem\", \"cihparg\", \"neercs\", \"ksid\", \"iscs\", \"sub\", \"edir\", \"draobrehtom\", \"edi\", \"tenlet\", \"mar\", \"trevnoc\", \"hsarc\", \"asi\", \"noituloser\", \"oib\", \"esserpxe_snoinipo\", \"rotcennoc\", \"oud\", \"noitarugifnoc\", \"gulp\", \"erutpac\", \"noitatnemelpmi\", \"toob\", \"sys\", \"ced\", \"draob\", \"revird\", \"evird\", \"erawdrah\", \"edom\", \"trop\", \"yalpsid\", \"latsni\", \"deeps\", \"enihcam\", \"melborp\", \"od\", \"tsaf\", \"nur\", \"maet\", \"emag\", \"nosaes\", \"naf\", \"eriw\", \"lhn\", \"rellortnoc\", \"erocs\", \"gniw\", \"ttocs\", \"evad\", \"rats\", \"notsob\", \"langis\", \"nep\", \"proc\", \"eulb\", \"nav\", \"otnorot\", \"tiucric\", \"lennahc\", \"eci\", \"mr\", \"yrag\", \"tfard\", \"nad\", \"tiorted\", \"nosaj\", \"emarf\", \"gnir\", \"yalp\", \"ogacihc\", \"laog\", \"noisivid\", \"hgrubsttip\", \"edart\", \"kcip\", \"raey\", \"ecnedive\", \"wal\", \"feileb\", \"tsiehta\", \"tneitap\", \"hcruhc\", \"gurd\", \"noisulcnoc\", \"suoigiler\", \"ytirohtua\", \"niarb\", \"esaesid\", \"drol\", \"terces\", \"foorp\", \"msiehta\", \"tnemtaert\", \"lanimirc\", \"malsi\", \"eslaf\", \"txetnoc\", \"erawa\", \"yloh\", \"temleh\", \"ylpmi\", \"noitavresbo\", \"nilloc\", \"lived\", \"cimalsi\", \"ylekilnu\", \"dlihc\", \"yduts\", \"doolb\", \"namow\", \"esrevinu\", \"emirc\", \"esuac\", \"nainemra\", \"reidlos\", \"egalliv\", \"krut\", \"milsum\", \"hsikrut\", \"wardhtiw\", \"ypucco\", \"yekrut\", \"ytironim\", \"tnecrep\", \"tnatibahni\", \"noisavni\", \"epacse\", \"ymra\", \"poort\", \"ainemra\", \"ercassam\", \"ediconeg\", \"melsom\", \"yrotirret\", \"reltih\", \"teivos\", \"rethguals\", \"yraurbef\", \"lov\", \"iiww\", \"druk\", \"noitapucco\", \"esopxe\", \"keerg\", \"raw\", \"redrum\", \"llik\", \"msirorret\", \"htaed\", \"kcatta\", \"ecrof\", \"elpoep\", \"yratilim\", \"namow\", \"naissur\", \"tnemnrevog\", \"ytic\", \"rac\", \"enigne\", \"tae\", \"ecnarusni\", \"evisnepxe\", \"otua\", \"tekcit\", \"lio\", \"regor\", \"yrotcaf\", \"enyaw\", \"rotom\", \"erit\", \"obrut\", \"yruxul\", \"ylevitisop\", \"raer\", \"mrala\", \"ehcsrop\", \"tem\", \"gnivird\", \"gnimit\", \"gniyub\", \"kael\", \"atoyot\", \"ecnanetniam\", \"oiratno\", \"namselas\", \"noisnepsus\", \"tfahs\", \"nwo\", \"elcihev\", \"elim\", \"cs\", \"relaed\", \"tniap\", \"evird\", \"yub\", \"deeps\", \"renwo\", \"ledom\", \"daor\", \"tnorf\", \"trops\", \"ecirp\", \"revird\", \"tsaf\", \"learsi\", \"ilearsi\", \"wej\", \"bara\", \"hsiwej\", \"nos\", \"ecaep\", \"rehtaf\", \"bmob\", \"itna\", \"citsitats\", \"etacol\", \"gninaem\", \"aibmuloc\", \"erussa\", \"mrasid\", \"melasurej\", \"ycaripsnoc\", \"revir\", \"yrub\", \"eus\", \"adnagaporp\", \"was\", \"esualc\", \"sixa\", \"tresed\", \"ecnarelot\", \"ezilitu\", \"tnemecrofne\", \"rekab\", \"suoires\", \"ssorc\", \"dnal\", \"nailivic\", \"kcatta\", \"raw\", \"retnec\", \"rotinom\", \"lamron\", \"lairt\", \"tekram\", \"asn\", \"ibf\", \"nairb\", \"esucxe\", \"ertnec\", \"ezirp\", \"hserok\", \"tfarcecaps\", \"scisyhp\", \"noitacificeps\", \"tlusnoc\", \"ecnatsid\", \"sunev\", \"laivirt\", \"tnialpmoc\", \"enozo\", \"aremac\", \"dnuopmoc\", \"ftab\", \"rebotco\", \"tsisnoc\", \"bmud\", \"erawaled\", \"lausunu\", \"kcilc\", \"fta\", \"erif\", \"dnuorg\", \"kcolb\", \"knat\", \"tnega\", \"tupni\", \"eciton\", \"lanretni\", \"lanretxe\", \"rotcod\", \"drahcir\", \"yrotcerid\", \"buc\", \"noitatskrow\", \"pac\", \"nim\", \"retniop\", \"tenuu\", \"dnopser_esaelp\", \"ainigriv\", \"etaicerppa_yltaerg\", \"maerts\", \"ddo\", \"dnapxe\", \"nek\", \"unem\", \"teid\", \"tped_sc\", \"mor\", \"evisserpmi\", \"mor_dc\", \"ssecca_cilbup\", \"dnalaez_wen\", \"lairtsudni\", \"epocs\", \"ereves\", \"tuptuo\", \"ecaps\", \"hcnual\", \"noom\", \"asan\", \"noissim\", \"tibro\", \"etilletas\", \"nagihcim\", \"ram\", \"thgilf\", \"bor\", \"ymonortsa\", \"elttuhs\", \"yks\", \"ranul\", \"noitats_ecaps\", \"ollopa\", \"yratenalp\", \"esahp\", \"tnatsid\", \"epocselet\", \"eksa_yltneuqerf\", \"umc\", \"erehpsomta\", \"natit\", \"latibro\", \"werdna_op\", \"edesrepus\", \"dioretsa\", \"retibro\", \"tekcor\", \"htrae\", \"leuf\", \"ylf\", \"naissur\", \"tcejorp\", \"ecneics\", \"eludehcs\", \"evets\", \"weiver\", \"enalp\", \"naidanac\", \"retaw\", \"pam\", \"raelcun\", \"ecnerefnoc\", \"noitartsiger\", \"ailartsua\", \"taeh\", \"reviled\", \"ytliug\", \"gnigami\", \"lamreht\", \"noisiv\", \"ruot\", \"elibomotua\", \"noitasinagro\", \"egnarra\", \"siuol\", \"nortcele\", \"letoh\", \"wenten\", \"yllaitrap\", \"lluh\", \"ct\", \"nailartsua\", \"noitingocer\", \"yrucrem\", \"dnetxe\", \"egdirbmac\", \"om\", \"lacinhcet\", \"yrtsudni\", \"nug\", \"mraerif\", \"dnalnif\", \"tekcap\", \"nugdnah\", \"if\", \"nugtohs\", \"reffub\", \"elfir\", \"yrrah\", \"eravat\", \"redmuzom\", \"iknisleh\", \"tnemdnema_dnoces\", \"lacigoloib\", \"ks\", \"sseldeen\", \"noiteled\", \"mota\", \"edolpxe\", \"rotsevni_laiceps\", \"citamotua_imes\", \"retuo\", \"esnefed_fles\", \"tsiehta_lacitilop\", \"noisluporp\", \"cibuc\", \"ytsenoh\", \"nopaew\", \"tluassa\", \"emirc\", \"llik\", \"nip\", \"rossecorp\", \"dnab\", \"cinhte\", \"detaler\", \"riaf\", \"rekaeps\", \"elasrof\", \"eef\", \"igs\", \"gab\", \"ainavlysnnep\", \"elbatrop\", \"ezirammus\", \"wehtam\", \"citamehtam\", \"tuo\", \"etartnecnoc\", \"rehtael\", \"etats_nnep\", \"yzzuf\", \"emerpus\", \"nori\", \"tcartsba\", \"ttip\", \"yrossecca\", \"tnatlusnoc_sitnam\", \"citamehcs\", \"yldegella\", \"egnahcxe\", \"retep\", \"ap\", \"retnirp\", \"sm\", \"yob\", \"aissur\", \"noitcerroc\", \"tluc\", \"rev\", \"ynomrah\", \"enegue\", \"nilloc_trof\", \"ie\", \"klr\", \"umu\", \"ql\", \"dls\", \"ien\", \"le_le\", \"jif\", \"mu_me\", \"klrj\", \"odt\", \"lv\", \"en\", \"rk\", \"q_r\", \"xc\", \"km\", \"dl\", \"wiu\"], \"Freq\": [52570.0, 18952.0, 17400.0, 8691.0, 7224.0, 7000.0, 6479.0, 7974.0, 6171.0, 6799.0, 9060.0, 4213.0, 3372.0, 4246.0, 2826.0, 5297.0, 4169.0, 14505.0, 11237.0, 2523.0, 2499.0, 3752.0, 2431.0, 4161.0, 1830.0, 3512.0, 3430.0, 9736.0, 1631.0, 3335.0, 11236.448678893808, 7777.022512175983, 7235.454821853165, 7099.619428731759, 4996.496526807056, 3991.92154929163, 3273.177628936815, 3229.623104368508, 2920.6843733016385, 2881.6607249418985, 2877.621551276641, 6800.796810455157, 2621.1536681782304, 2330.270125492088, 2298.2911349479914, 2242.3975740163087, 2205.3894076379115, 2179.4747484613035, 2170.69974922685, 2147.0176893442394, 2119.5071226284335, 2088.8995922192994, 1876.2743062883624, 1817.3995971103448, 1647.8817001612229, 1563.634611981822, 1426.9756097702805, 1408.8270360228012, 1365.1915872434304, 1359.9045387872802, 2309.2182490708733, 9417.427812127391, 3132.671794663124, 2137.30795683127, 13575.201772771728, 7839.243847966606, 5925.566283363585, 3984.4949937045726, 7830.855291160347, 4397.312264225328, 6629.706022454404, 2832.0881951849, 4140.228946637706, 3846.7435146436733, 4113.93649454097, 3362.159663074422, 4084.0956917112967, 3592.3239523368925, 3107.1120585209087, 3534.2643493427754, 5709.51799126576, 3844.023171055821, 4242.066202187882, 3880.029753720475, 5348.215431567527, 5128.169014317304, 3974.986398904609, 3510.9028556897615, 3150.699663124658, 1913.2714000387673, 1808.354925891049, 1748.9557912624389, 1403.4182787757027, 1372.6146403730756, 1317.3267395490489, 1115.2751945714515, 1069.8360096358638, 1018.401831519487, 986.6428634102022, 942.2755520760638, 912.261508880358, 868.8795232021861, 861.4816002087683, 775.1913034189188, 734.4589369970126, 713.9523713673331, 694.7222159384039, 663.3765865067511, 655.3825284198443, 618.5955925047364, 618.0428689800866, 602.3322841354286, 548.1880476768508, 543.4424614626291, 543.1771417871485, 528.7761622018222, 527.7968219761077, 6060.082189251796, 2605.890390825059, 1218.7724337689579, 1610.951033105102, 781.5725288460839, 4531.295977935843, 1632.324385352539, 1954.6204033727267, 910.8805944433688, 1070.5834316388257, 1314.4428629363688, 815.7679798562242, 1603.8225920691216, 1487.0399680477976, 1357.9281832839488, 1076.1141755858164, 1555.3481748133322, 1070.2089638588072, 1222.4645498598038, 1029.3826881001887, 978.2098737714823, 3429.296194861515, 2788.167185046834, 1498.6690438649314, 1372.421591670306, 1234.1357542007775, 1136.6009383379524, 1068.4757875171342, 1042.146252629355, 814.6050807539497, 791.9505026424289, 661.2399860197625, 655.6322843762554, 587.2795016317716, 475.9471748591736, 473.2966598848217, 467.8502111518848, 425.17694623692904, 406.8769818740944, 404.5585909711787, 6459.276661186862, 368.32988090573264, 340.5303567644228, 243.32825384550094, 243.23048465839622, 225.5745995564363, 221.47783016049092, 221.01523812245821, 217.96118193246744, 212.75307933058346, 211.74226338326264, 7122.6684526316285, 1140.2659497125444, 693.6662484198262, 386.47598597897274, 6734.828670734023, 635.0176259209928, 3658.2691774255018, 1307.3378362814365, 13602.782300636038, 12271.294019316134, 1789.442228941319, 1180.9388475719477, 924.8501853766227, 868.3375341764566, 2214.90271727115, 1036.0649012314889, 1795.6278761961335, 1439.0040929181826, 1167.8618221256538, 966.3712558794515, 972.8385150340811, 1324.8583625038093, 1165.8995682047766, 1280.9867094031974, 1159.0874915055315, 1120.9678138028628, 982.6822380544307, 4167.928115058059, 2289.039286834791, 2009.606065916984, 1694.2185234763024, 1407.3884297754598, 1165.4150526401324, 1011.2985110318928, 991.573967907631, 946.4392321387961, 932.9173890682481, 910.9568237692669, 789.5634683156148, 668.0248000158128, 596.9714918736184, 553.2375522632484, 552.1080723456698, 485.2796291262957, 481.54328102523425, 479.7562035958886, 474.3646234916964, 439.36301431286716, 408.3147385832333, 352.9812302390924, 348.6667670019088, 346.3256190081061, 322.92619210344606, 320.35182406350543, 315.76134021271855, 292.88705044292874, 289.64552240811634, 3145.4289537997906, 1438.9759865056494, 1164.4236291506568, 1447.9108509442979, 910.1301455674915, 1321.432837271826, 2504.576549102811, 851.1756846177612, 1582.4637820217479, 3511.276889400392, 1129.650750877987, 3274.2439030538935, 1257.731449017815, 781.3407782617586, 1048.6345652420912, 946.6451791221887, 1227.4664052242751, 1220.4816723882973, 1197.2447769488826, 1216.453499441106, 883.3256137466144, 1254.618743428433, 1233.8652466518065, 798.4501078792989, 797.6741657906681, 705.9558666595776, 694.8356921703634, 638.1962775131075, 531.7000904895865, 500.16335357598047, 471.85336752203455, 436.5517317714335, 432.0608799867375, 429.6548645029284, 421.08908064256275, 393.8278189969898, 388.8169628208958, 386.4395245324883, 384.7917684738796, 373.75196210897644, 371.03851131334727, 348.2558451040026, 342.94115719204837, 342.8087048245053, 337.023247425254, 335.51121209377976, 334.5924887832563, 322.72122011871494, 318.1778231682806, 310.8312002885692, 310.4090581257055, 1530.0325954662524, 607.0743289532844, 492.922051488999, 680.5974188268792, 1685.1370414921305, 2073.638565710412, 855.5300806486546, 422.3845242980389, 2834.1340516959212, 755.6301556153238, 808.2089267946108, 845.5754953742281, 682.1221923803507, 1362.9366219036883, 617.2085902011447, 764.3738555631895, 801.9019984323501, 528.9992103077703, 1187.3361252720742, 1005.1712541073088, 1037.596398201126, 634.2479315185346, 620.8803407897854, 653.113573512724, 708.5159140646421, 621.0503373905832, 52569.68650944304, 8690.503036868517, 4212.371675197304, 1584.2617955666508, 611.8855225142247, 608.0545141175132, 527.147270937941, 329.3388890440091, 313.7806119935458, 308.36594593263817, 270.0501987221339, 241.99369030844485, 241.84029452630958, 208.88441661481963, 204.2692833498614, 160.25387223701327, 159.71406749993076, 143.37438979657506, 127.16154921670359, 120.74477223814323, 108.22464950995581, 102.32766063236228, 93.94754457723604, 85.87760826820092, 80.01919291303422, 70.52251960273722, 62.98715441275632, 55.448137407210886, 55.25395162635696, 54.50916188913078, 223.92425302567412, 388.1660445581204, 150.31658882685286, 394.43681726358915, 1635.589057771272, 1461.804697553049, 775.4962684290966, 774.3282403427073, 680.5620096780563, 542.572855096024, 517.3870569664113, 495.2072483726886, 494.2479716636341, 463.5851514268001, 444.7416786463078, 383.6986402730885, 382.77779118816363, 360.02010384208955, 324.0217771571976, 301.47491153351666, 286.64338875422084, 283.6844616962399, 278.3445115807399, 276.8237168949162, 276.7444630761626, 270.7672001562737, 266.685817851295, 263.82449998837654, 259.7146883110128, 245.90982944760586, 231.42892717835477, 229.05833159045824, 208.31931904454694, 202.14719120807953, 1108.378314495992, 1278.5560326303334, 1299.781614137095, 444.88094722363957, 577.2198776606521, 1244.7763836526626, 707.7760390176433, 499.3750549597932, 1048.8693260665914, 768.0287862851586, 438.74853466493556, 1206.2990712416427, 381.5454056681958, 831.4101279129881, 891.7092307113195, 514.4806459782001, 554.7126010741822, 1080.8433311761582, 643.9384135374678, 401.9223729340764, 2429.9078305601165, 1794.4479936384994, 1361.2122347174593, 1043.4534005144264, 918.8195794580415, 830.0178672831662, 811.4943987801802, 787.6550572910779, 743.2990426211505, 544.0895041376609, 484.8271674853971, 480.38243627644323, 474.375264219562, 432.73732931871496, 376.9311577643372, 356.5488987507295, 276.6004125782208, 275.36811758409, 264.03114674899336, 253.86553868726185, 219.94917111831816, 204.58827018334975, 194.41954303774884, 193.74486684925236, 188.97731045981885, 180.50619057900198, 168.65286458310754, 135.2764104319515, 133.6128562240001, 121.46931782161313, 738.4158783054766, 1289.2344939829122, 2963.03984628427, 670.2233109743771, 614.1133773462271, 399.7590353972598, 547.8195614943817, 498.2524383612444, 530.3498296077813, 636.4735758742663, 937.4689855591413, 642.0922568614417, 427.50695592572373, 577.2620619415211, 2522.0879246263244, 2498.1285268686875, 797.6374114160234, 754.5695497903138, 731.1029548461253, 613.2828879965432, 609.9129616410514, 590.4140113956905, 575.9574494088093, 569.813997190821, 515.5246765224956, 497.4969231475613, 488.1185510200773, 447.86210345415424, 446.03102361990267, 443.13618231217015, 404.7869570446179, 389.1473315214843, 382.8891897169165, 364.29534640681896, 318.4155216170143, 314.2901009468627, 269.76381827763885, 261.12324100260236, 259.60070287932615, 257.03779512611334, 256.5663158633136, 251.35260706056573, 238.0034786431723, 235.89687657036623, 1588.6183607620553, 456.1829372903209, 570.1034483753358, 635.9589923781401, 336.0751188565414, 490.4360640577982, 396.930006528316, 708.1326037690523, 2825.443063294275, 1827.78403401938, 890.8072892622869, 888.5443975520172, 884.842221638691, 815.162172027436, 658.7745542957128, 634.3095913374453, 599.7754459084348, 535.9226013151894, 535.5944386399785, 463.27754368898974, 437.7539316485449, 397.27133487040015, 386.97606612208676, 379.68960239003604, 378.9683511335072, 368.1780223511267, 327.6579602467746, 318.50424704479485, 296.89294557176345, 283.5035341197152, 257.8914535358732, 250.62613619942692, 244.13504979881944, 220.6279538454153, 211.31255554751564, 210.4651780224149, 192.90908707716753, 190.82946412880278, 1291.201364319311, 713.3589809207472, 256.07996478487456, 401.47252374203396, 283.7487028766937, 283.04814325457346, 326.2046484099092, 867.7008932052483, 732.9884682673086, 630.2702106416475, 541.0148601102583, 489.6598183320322, 442.00098847424107, 387.25440707231354, 369.391403900526, 345.92596360270716, 276.7053911444513, 247.15322700835483, 222.6975950240563, 211.3006301455828, 205.57859348059912, 199.6199793553023, 193.30278172023264, 190.79905625500695, 176.2615279436102, 171.59806012957475, 171.26467103706779, 166.84180049698608, 161.91685657761278, 156.60684408869417, 153.3293246639422, 149.22079279520116, 141.93728036002543, 136.9483420830292, 119.01038753650471, 110.74353323106959, 109.82509992354206, 665.2690474862503, 776.6052477896455, 549.1893057566343, 950.2062909802394, 313.13181304337076, 516.5178737889748, 404.67687093515406, 364.99894412450794, 487.14709870183805, 225.993895986119, 224.47327711777905, 184.7985500250141, 242.70276898469285, 211.5611651574262, 1829.4254416265503, 487.3613959531542, 407.74901970963384, 307.44169890131747, 289.4016270015423, 228.9593971411136, 213.7917859073174, 201.70498472856323, 181.44003613473637, 169.12384502884632, 142.5370291304637, 121.51641014577748, 105.67158329395474, 103.46419587964625, 96.32219483519283, 95.25039570002832, 91.60151114291457, 80.03008299158603, 78.98995146829245, 78.73758516677634, 74.12965392646097, 66.90770951780723, 64.15454977074847, 61.3938202361978, 60.79472562612354, 59.21865448346203, 57.950207755948085, 56.04174684399883, 51.90795198011145, 48.86154640896121, 128.6021184054696, 231.87711632490132, 251.94228661179875, 296.03847489921395, 235.40380955922896, 76.0909831954966, 401.2779862046422, 249.75754180698988, 178.33212437138994, 133.51190660379584, 187.26381943268143, 156.91726230974393, 111.93841944499788, 101.82531018645663, 125.90091917502201, 124.71470543878927, 102.92738179629117, 1546.176637719236, 821.6609930876502, 536.2211197507245, 501.56274950645104, 486.74575732977064, 359.3970081511526, 350.7526033819329, 345.3467670464397, 321.7476362276092, 274.79763437730986, 230.56280711002447, 146.30671563520735, 139.06494529633036, 108.1459495973648, 106.8497598876785, 105.71648424647698, 100.44046324127557, 93.48567911182212, 89.13116727649457, 77.02859248020947, 72.0568770900894, 70.89164493159413, 65.3452640897218, 55.49110621482121, 52.59227791193832, 52.13403557128261, 52.01447776968445, 48.120065988216716, 47.67519019887084, 47.323203278216916, 433.6156987173661, 185.713824349335, 330.90347361295613, 137.43072237017796, 208.30359124361917, 125.82913336067182, 68.59984286695195, 620.8362233433907, 446.7538073942097, 372.53233115082344, 329.0295476406908, 321.8966374216875, 294.4184694156232, 278.6219068592995, 271.8720017094659, 199.30038211174855, 184.94536096805473, 178.44035833437263, 163.27031459514996, 162.62209166586328, 152.65190339290027, 151.61089256698077, 150.27076810438263, 141.75833173327536, 138.40170352487544, 129.64266861979016, 119.30902864259927, 116.67013551440454, 112.12175982325779, 99.45147430053458, 96.41275725972385, 94.41779171132036, 90.61163889399708, 90.5726796439243, 87.25958870473033, 85.4824201122148, 80.5612707637865, 389.8791277404848, 207.2398102571797, 219.50324814128797, 126.4120250399379, 98.32498663415574, 617.833709595404, 500.9616301840505, 472.24735109839315, 392.0262621515507, 348.15557899660183, 339.5963752774638, 333.3994667882513, 269.6968871591267, 267.38179513983874, 260.49463563653535, 188.27491063677527, 180.62000338484324, 174.86413790234093, 168.59930284172304, 168.51019718749595, 157.79680731216078, 156.7715526176957, 154.89111150367737, 149.99723229348024, 149.4020592910599, 144.2934270592955, 138.21017325179375, 108.16046065055026, 107.84632424317141, 104.03954600723063, 102.92601315384688, 99.48032268952441, 95.9037500505845, 90.38116628894701, 88.5320980405354, 97.23911161005694, 112.71368762544172, 1629.7545898264666, 405.7979861525161, 372.14857129898263, 364.3826597119652, 356.14421747378776, 347.20648036084117, 291.5618996971316, 272.31282775079745, 248.85130225359518, 229.17279885779496, 204.301002304525, 186.52590928641106, 181.84729357664605, 161.59965351822112, 134.51679677453416, 115.0858269194533, 97.30094593034762, 97.03905746382443, 94.97283170465906, 94.76829409278612, 94.08817354337124, 81.81409234402277, 63.170652537147085, 62.125496896068704, 61.35716986011989, 60.53222061683379, 53.89926954079948, 50.2389011579562, 48.240192891540346, 48.09413066087944, 177.09300181917823, 414.34920742151724, 124.77205120686604, 99.62000656973787, 105.8701366748154, 127.65666838350066, 111.08139930775178, 70.23733809796035, 504.8876893031101, 451.5639978549772, 247.55628852492993, 198.09377885810903, 196.0191024147192, 186.78904255782243, 170.29672870799214, 167.969727591844, 165.05224786244705, 158.19232925373117, 147.1690924234969, 133.95914544000834, 126.90876641420333, 90.31215573485046, 90.05791821557445, 80.53708236059451, 74.80240737959922, 68.08858825551992, 65.7565561975143, 58.30413337994862, 50.84725114174112, 50.06138614283022, 45.340064931969806, 44.42506724151815, 43.75990985609152, 41.16309629556611, 36.90696225104678, 36.181036997589125, 34.462857604182425, 33.35241132167784, 86.19294962022136, 94.62771632209879, 71.46805929792963, 50.616543189792274, 47.99070646005052, 1151.3643142894473, 353.05821445662264, 113.82844512732524, 106.86091916505106, 103.46950061319298, 84.12315414553186, 75.71451359296451, 67.76925181086652, 57.03921732264587, 56.17654888022542, 55.6304996232993, 48.42999544698632, 46.73692255228008, 45.690606822781206, 45.32180706966128, 43.3451114794193, 42.0139244048958, 39.42141899432799, 38.059204216292486, 37.154001332619686, 34.78745511879057, 34.5315345157519, 29.253517851994165, 22.004600691538123, 18.726939053263376, 16.365962310669307, 14.325803492011753, 10.922537450912962, 322.6276621090835, 35.01010724881367, 170.43857827041413, 32.882754680018735, 514.1234987362666, 210.30094295868471, 134.54120267242422, 131.95596392996305, 117.72207532855724, 97.77965252569022, 90.04424548866814, 84.06154699075897, 77.06856400668225, 71.51842292052059, 62.08686619165296, 59.68517737680624, 58.2949214263116, 57.426170886351485, 52.56316066522866, 49.583568854197466, 48.369053859662436, 43.123990433333326, 40.51816884443271, 36.36551116125475, 33.669932822122284, 30.9338191764335, 28.25884811731887, 26.525339484108276, 24.657094326199573, 19.9545638479712, 18.500305360551344, 17.433226243084917, 14.521196941351011, 107.47224783269233, 121.7408516622809, 245.58749877234305, 160.13283772006247, 136.97118402444366, 91.6150199064849, 85.48666633971871, 49.042008096830514, 44.13756318336889, 26.49988056040722, 16.39327002149182, 13.171797583735014, 8.290804069000297, 0.026473113480120002, 0.02645568300477794, 0.02644914751553174, 0.026448261092852372, 0.026444790522700944, 0.026444790522700944, 0.026442609522266677, 0.02644164797902126, 0.026441520274058977, 0.026440431025851276, 0.026440431025851276, 0.02644043853790788, 0.02644057375492677, 0.02643935179371905, 0.026439344281662443, 0.02644280733975727, 0.026439609707662484, 0.026437656572945226, 0.026437165785247047], \"Total\": [52570.0, 18952.0, 17400.0, 8691.0, 7224.0, 7000.0, 6479.0, 7974.0, 6171.0, 6799.0, 9060.0, 4213.0, 3372.0, 4246.0, 2826.0, 5297.0, 4169.0, 14505.0, 11237.0, 2523.0, 2499.0, 3752.0, 2431.0, 4161.0, 1830.0, 3512.0, 3430.0, 9736.0, 1631.0, 3335.0, 11237.683318411317, 7778.257151693493, 7236.689537226103, 7100.854068249269, 4997.731191174459, 3993.156188809139, 3274.412268454324, 3230.857743886017, 2921.9190128191476, 2882.8953644594076, 2878.8561907941503, 6803.946461728378, 2622.3883076957395, 2331.504765009597, 2299.5257744655005, 2243.632213533818, 2206.6240471554206, 2180.7093879788126, 2171.9343887443592, 2148.2523288617485, 2120.7417621459426, 2090.1342317368085, 1877.5089458103419, 1818.6342366278554, 1649.1163396787335, 1564.8692514993327, 1428.2102492877912, 1410.0616755565643, 1366.426226760941, 1361.139178304791, 2314.6585595437887, 9736.844962106032, 3172.455692163903, 2148.981255745913, 14505.714655435608, 8534.127858680988, 6459.804315386159, 4248.069729128602, 9091.946069048687, 4794.142821588201, 7847.330875984073, 2986.164930139791, 4724.402021460946, 4364.643370569889, 4850.213990332681, 3757.6895457125447, 4859.646028886078, 4290.888921110902, 3508.3076320786267, 4257.033779007204, 9060.348057015051, 5124.368701760341, 6338.456297175524, 5297.766540721021, 18952.157779766014, 17400.62308119589, 7974.508597065251, 3512.130936114737, 3151.927786935528, 1914.4994804682235, 1809.583006316026, 1750.1838716874158, 1404.6463592006796, 1373.8427207980526, 1318.554819986492, 1116.5032749964284, 1071.0640900608407, 1019.6299119489429, 987.8709438351787, 943.5036325010403, 913.4895893053344, 870.107603631642, 862.7096806454243, 776.4193838438953, 735.6870174219891, 715.1804517923096, 695.9502963678598, 664.6046669521811, 656.610608869318, 619.8236729297129, 619.2709494050631, 603.5603645790356, 549.4161281018273, 544.6705418876056, 544.405222212125, 530.0042426267987, 529.0249024010842, 6171.578676016112, 2885.6444161548875, 1334.5403906323734, 1839.8553270920584, 835.5650187781483, 6799.734308315106, 2017.956249486436, 2610.8829927490747, 1022.703948703278, 1298.2759133536442, 1802.3413578443826, 892.7107237030802, 2573.5928632127566, 2563.1696651305133, 2298.1060816408744, 1635.0418809796508, 6338.456297175524, 2101.7952672321985, 4719.99417518592, 3371.8449157773266, 2068.9316688595445, 3430.532752866446, 2789.4037430517656, 1499.9056018698643, 1373.658149675239, 1235.372312211313, 1137.8374963737444, 1069.7123455263375, 1043.382810634288, 815.8416387633507, 793.1870606473614, 662.4765440626988, 656.8688423811878, 588.5160596411835, 477.18373286410605, 474.53321792585524, 469.0867691612967, 426.4135042513986, 408.11353988350623, 405.7951489761112, 6479.545968861738, 369.5664389106651, 341.7726545829273, 244.5648118504334, 244.4670426677973, 226.81115757503048, 222.71584032349577, 222.2517961363494, 219.1977399373999, 213.9896373562407, 212.9788213881951, 7224.780024108887, 1158.3320446768935, 701.264085761506, 388.9173093308818, 7000.588648274235, 647.2890434207395, 4161.805503604981, 1434.906836377907, 18952.157779766014, 17400.62308119589, 2184.6388362983266, 1398.6218631485838, 1080.3697326906536, 1017.098251285249, 3246.0827424219497, 1302.6681991611174, 2842.8245826376324, 2419.585229793046, 1738.4265615993088, 1315.0216940469954, 1610.387239577743, 3585.7482175719942, 2980.325700142456, 4719.99417518592, 4333.716277827249, 4116.92401148911, 2685.215785702234, 4169.17597960818, 2290.2871513849113, 2010.853930467106, 1695.4663880306946, 1408.636294329852, 1166.6629171902543, 1012.5651843788445, 992.8218324577524, 947.6874689494907, 934.1652536183695, 912.2046883193883, 790.8113328713392, 669.2726645704137, 598.2193564237399, 554.4854168133699, 553.3559368957913, 486.52749367641707, 482.79114557535564, 481.00406814601, 475.6124880469328, 440.61087886298856, 409.56260313762493, 354.2290947892138, 349.9146315792078, 347.5734835962863, 324.1740566629527, 321.59968866478926, 317.00920476283994, 294.13491499305013, 290.8933869633527, 3335.4335642377227, 1705.613076696328, 1356.1437576615822, 1738.4098307647266, 1051.904545891378, 1608.7648644142078, 3429.237187730001, 1006.5069644236319, 2241.1306971864265, 7974.508597065251, 1665.954212193486, 9060.348057015051, 2279.358657735, 1140.3389283040701, 1979.0207175822402, 1651.747598363809, 3180.18638867527, 3585.7482175719942, 4141.794037792062, 7847.330875984073, 2410.1733627556146, 1255.8548058361162, 1235.1013090639585, 799.6861702994481, 798.9102281983509, 707.1919290672604, 696.0717545780461, 639.4323399250604, 532.9361528972693, 501.39941598366323, 473.0894299297173, 437.7877941835849, 433.296942437251, 430.8909269312812, 422.3251430502455, 395.0638814102755, 390.0530252375266, 387.6755869681042, 386.02783088156235, 374.98802451904527, 372.2748874242537, 349.4919075738541, 344.17721959973113, 344.04476723870687, 338.25930983293676, 336.7472745014625, 335.82855119093904, 323.95728253200065, 319.4138855802336, 312.067262696252, 311.6451205378676, 1569.495247774102, 614.4054602255468, 501.5518383507216, 700.3540396098987, 1856.7466773610856, 2317.5042530726355, 924.4406234557248, 433.21569885205395, 3752.7818282243484, 862.6499341967443, 937.5381170615392, 997.7018831474137, 791.5217550756577, 2018.9052097157298, 716.8539790479026, 1040.8856772778981, 1175.5821783901656, 639.590346641887, 4169.828884312684, 2980.325700142456, 3236.6241966729804, 1149.251005242032, 1216.0040475430587, 2101.7952672321985, 5297.766540721021, 2068.9316688595445, 52570.85608527914, 8691.672612778284, 4213.541251033396, 1585.4313715564092, 613.0550986214819, 609.224090108111, 528.3168468134828, 330.5084651582337, 314.950188024343, 309.53552190670183, 271.21977479564276, 243.16326626965554, 243.00987045482387, 210.05399299162556, 205.43885943084678, 161.423448151409, 160.88364344074697, 144.54396570316004, 128.33112529677604, 121.91434825002587, 109.39422555828976, 103.49723666710378, 95.11712069908458, 87.04718420061646, 81.18876959680743, 71.69209550644713, 64.1567310241252, 56.61771378862009, 56.423527677698274, 55.67873824262193, 296.5098208638451, 1149.251005242032, 414.2266110410073, 3757.6895457125447, 1636.8277196793372, 1463.043359461114, 776.7349303664129, 775.5669022507722, 681.9150360894005, 543.8115170040888, 518.6257188838613, 496.4459102807533, 495.48663357596905, 464.8238134518447, 445.9803405543725, 384.9373021811532, 384.01645310134336, 361.2587657501543, 325.2604390708653, 302.7135734816045, 287.8820507001597, 284.92312360430464, 279.58317349440756, 278.0623788153844, 277.98312504602956, 272.005862108085, 267.9244797593597, 265.0631619007115, 260.9533502235462, 247.1484913556706, 232.6675890864195, 230.29699351705446, 209.55798096372766, 203.38585313713335, 1139.8523099912618, 1340.8085123825197, 1396.9066768942566, 460.44425531601513, 618.1198534559271, 1450.1886443505857, 788.9553393448762, 545.7790206612855, 1288.398032728752, 919.6271717212468, 484.7581628023411, 1678.0156367918926, 418.5535347346955, 1196.1062671666914, 1343.7816359606343, 768.8273571690661, 895.219744647415, 4481.6481384005465, 2573.5928632127566, 490.93360688440583, 2431.154532453861, 1795.694682839108, 1362.458923918068, 1044.7000897150351, 920.0662686586497, 831.2645564837744, 812.7410879807884, 788.9017464916861, 744.5457318217587, 545.3361933425393, 486.0738566949532, 481.6291254770514, 475.62195342017014, 433.9840185390772, 378.17784696494533, 357.795587978292, 277.8471018454436, 276.6148067903011, 265.27783595520447, 255.11222788786998, 221.19586035462726, 205.83495938634397, 195.66623223835697, 194.9915560498605, 190.22399966602987, 181.75287986488368, 169.89955379121676, 136.52309963255962, 134.85954542460823, 122.71600704357189, 782.4595286328857, 1415.1377090034016, 3372.74383581509, 823.4694586086013, 776.1455655278256, 466.94150783584956, 759.1104170755335, 724.0509925224137, 868.1658727118878, 1477.106172011982, 4246.217628954201, 2555.5363857353673, 1043.7217856984782, 3371.8449157773266, 2523.3277918261188, 2499.368394068482, 798.8772786209336, 755.8094169945883, 732.3428220503998, 614.5227551963384, 611.1528288498054, 591.6538785954857, 577.1973166142075, 571.0538644083136, 516.7645437222908, 498.7367903529594, 489.3584182198725, 449.10197068804666, 447.2708908239681, 444.37604955957505, 406.0268242509319, 390.3871987212795, 384.1290569167117, 365.53521360661415, 319.6553888442382, 315.5299681466579, 271.00368556470784, 262.3631082080005, 260.8405701044184, 258.2776623259085, 257.8061830631088, 252.5924742603609, 239.24334586998467, 237.1367438225257, 1634.1935581405965, 502.84826661616637, 665.4414246205707, 771.351436796348, 363.44882672394976, 633.3911384165855, 745.5036035447604, 5297.766540721021, 2826.6922348898665, 1829.033205614973, 892.0564608578793, 889.7935691476097, 886.0913932342834, 816.4113436230284, 660.0237258913053, 635.5587629330378, 601.0246175040272, 537.1717729107818, 536.8436102400503, 464.52671528458217, 439.0031032441373, 398.5205064659926, 388.2252377176792, 380.9387739856285, 380.21752272909964, 369.4271939497374, 328.90713184236705, 319.7534186403873, 298.1421171673559, 284.7527057658647, 259.14062513146564, 251.87530779501935, 245.38422139441187, 221.87712544661062, 212.56172735432082, 211.71434962694457, 194.15825867275996, 192.07863576251765, 1459.745640082537, 847.2387736333168, 295.11557864355467, 691.1549409774414, 380.44718164357704, 489.3942007729816, 1637.7135700273434, 868.9388991541651, 734.2264742162254, 631.5082165905643, 542.2528660591751, 490.89782428094907, 443.2389944231579, 388.49241303194833, 370.6294098494428, 347.163969551624, 277.94339709336816, 248.39123300690179, 223.9356009729732, 212.53863609449968, 206.816599429516, 200.85798530723744, 194.54078766914952, 192.03706220392382, 177.49953389252707, 172.83606607849163, 172.50267700670946, 168.07980644590296, 163.15486253079987, 157.84485005481784, 154.56733061285908, 150.45879877308383, 143.17528636803303, 138.186348044629, 120.24839348542156, 111.98153918811971, 111.06310590505835, 737.8110084715616, 903.6163040480675, 623.0102029220114, 1532.6619425568244, 396.26202113677874, 1247.8121009576646, 975.8584860342551, 1140.3140964347956, 7974.508597065251, 610.4458111588252, 691.1549409774414, 291.85383350742217, 2317.5042530726355, 978.5777086604094, 1830.6784119867104, 488.6143663175841, 409.0019900740637, 308.6946692670801, 290.6545973717843, 230.2123675042916, 215.04475627194574, 202.95795508872294, 182.6930065049676, 170.37681541251595, 143.7899995416473, 122.76938050593716, 106.92455365411442, 104.71716623980593, 97.57516524257657, 96.50336629522062, 92.85448150307425, 81.2830533517457, 80.24292182845213, 79.99055553140464, 75.38262428662065, 68.16067991823704, 65.40752013090815, 62.646790596357484, 62.04769598628322, 60.47162485500329, 59.20317812505578, 57.294717219270474, 53.160922340271135, 50.1145167691209, 144.07889098394702, 302.080546927595, 342.5995835225532, 426.8521696970831, 349.21773107455067, 91.0410880610715, 3372.74383581509, 1712.6333290679916, 868.1658727118878, 417.14248712618144, 1073.396463285012, 689.4531655748226, 444.7881082275412, 338.41727640294766, 1450.1886443505857, 1415.1377090034016, 1043.7217856984782, 1547.4317046471378, 822.9160600155517, 537.4761866786259, 502.8178164343525, 488.0008242576721, 360.65207507905404, 352.00767030983434, 346.60183397434116, 323.00270316452986, 276.0527013052113, 231.8178740668917, 147.56178260660573, 140.32001222850204, 109.40101652526623, 108.10482683132764, 106.97155118094295, 101.69553016917699, 94.74074603972355, 90.38623420886462, 78.28365946593179, 73.31194403406333, 72.14671185949555, 66.6003310206415, 56.7461731702381, 53.84734485800819, 53.38910258439573, 53.26954469758589, 49.37513303205135, 48.930257195742584, 48.57827021058698, 470.120354327225, 198.30383846043122, 462.56401659720325, 288.0093956727215, 975.8584860342551, 903.6163040480675, 1396.9066768942566, 622.0873809510123, 448.00496500610143, 373.78348875396557, 330.2807052503518, 323.14779502482963, 295.6696270187653, 279.87306446691025, 273.12315933892825, 200.55153971489077, 186.1965185937348, 179.69151593751485, 164.52147220389506, 163.87324927327572, 153.90306103057233, 152.86205022164827, 151.52192570752484, 143.00948934202046, 139.65286117751523, 130.89382623986734, 120.56018625134436, 117.92129312314962, 113.37291742639997, 100.70263190367676, 97.66391491509643, 95.6689493365793, 91.86279650160787, 91.8238372515351, 88.51074634595969, 86.73357771983636, 81.81242836692867, 719.0547902639117, 565.0633432592492, 660.7105497314336, 212.05700746266254, 244.79170829206998, 619.0811758957841, 502.20909648443046, 473.4948174032525, 393.2737284564101, 349.40304530125206, 340.8438415834467, 334.6469330886313, 270.9443534785774, 268.6292614526852, 261.74210194440224, 189.52237694162395, 181.86746968522328, 176.11160421070807, 169.84676916073366, 169.7576634991551, 159.04427361905968, 158.01901892407673, 156.13857780832763, 151.24469859386028, 150.64952559590859, 145.54089335967555, 139.4576395521738, 109.40792695093027, 109.09379054355142, 105.28701233577769, 104.17347945870627, 100.72778898990443, 97.15121638211289, 91.62863263224314, 89.77956434091541, 104.32870031792024, 318.28219583006944, 1631.0128806642108, 407.0562769902601, 373.4068621367266, 365.64095054970915, 357.40250831153173, 348.46477119858514, 292.82019053487556, 273.5711186205885, 250.10959309133918, 230.43108969553896, 205.55929316507073, 187.78420012415506, 183.10558441439005, 162.85794435596512, 135.77508761227816, 116.34411775719728, 98.55923676809161, 98.29734830156842, 96.23112255198666, 96.02658498991322, 95.34646438111523, 83.07238319955016, 64.42894337489106, 63.3837877338127, 62.61546070234327, 61.79051145457779, 55.15756037854348, 51.497192050745696, 49.498483729284345, 49.35242149862344, 254.9316459424295, 910.4057575093487, 189.30789558843125, 203.30163834932077, 291.85383350742217, 492.8648734840877, 1238.685332771194, 250.15271809778775, 506.1467719863271, 452.8230805381942, 248.81537120814696, 199.35286154132606, 197.27818509793624, 188.04812524551883, 171.5558113968121, 169.22881027506102, 166.31133055379735, 159.4514119449353, 148.42817510671392, 135.2182281544206, 128.1678491249358, 91.57123849533662, 91.31700094496404, 81.79616505389382, 76.06149006281623, 69.34767099693609, 67.01563888073132, 59.563216105380796, 52.10633382495814, 51.320468830526636, 46.599147621453405, 45.68414993033809, 45.018992565138404, 42.42217897878314, 38.16604499201571, 37.44011968080615, 35.72194040266085, 34.61149401049778, 123.44376063807452, 236.45506303751858, 296.5098208638451, 545.1814468217104, 344.74005354122716, 1152.6295856266747, 354.32348579385, 115.09371646902119, 108.12619056030631, 104.73477195042031, 85.38842553043601, 76.97978493019184, 69.03452315705262, 58.304488659873215, 57.441820217452765, 56.89577096052665, 49.695266788483885, 48.00219389397605, 46.95587816000855, 46.58707840688863, 44.61038286911335, 43.27919577249279, 40.68669033582556, 39.32447559210523, 38.41927277051243, 36.052726456017915, 35.796805858094245, 30.518789194824414, 23.269872034766433, 19.992210390490715, 17.631233725128812, 15.591074857777931, 12.187808919915765, 390.0058462341244, 44.18954536284359, 489.3942007729816, 1532.6619425568244, 515.3961430824592, 211.57358730487724, 135.81384701413737, 133.22860828335575, 118.99471970275465, 99.05229686740337, 91.31688983038129, 85.33419133247212, 78.34120836269277, 72.79106726223374, 63.35951053336611, 60.95782174478661, 59.567565776011854, 58.69881524921686, 53.83580501121203, 50.85621320807808, 49.64169821184518, 44.39663478910934, 41.79081318614586, 37.63815550743653, 34.942577197587994, 32.20646356984419, 29.531492480871297, 27.79798383456027, 25.929738667912726, 21.227208189684355, 19.772949718311658, 18.70587058479807, 15.793841283064165, 118.4328967042228, 300.7213721575271, 246.8722213888598, 161.4175603365792, 138.2559066454398, 92.89974252300165, 86.771388966307, 50.32673071334727, 45.42228579988564, 27.784603181403355, 17.67799276023927, 14.456520243903359, 9.57552668551705, 1.3113749358232911, 1.311282651621801, 1.311226411464152, 1.3112322480367207, 1.311211135058131, 1.3112132233028477, 1.3112034975102715, 1.3112048410444859, 1.3111996737727931, 1.31119582858721, 1.31119582858721, 1.3111969726500106, 1.3112089141686496, 1.3111921122154717, 1.3111924087138098, 1.311366357741603, 1.311214224650226, 1.3112045795884573, 1.3111843663732512], \"Category\": [\"Default\", \"Default\", \"Default\", \"Default\", \"Default\", \"Default\", \"Default\", \"Default\", \"Default\", \"Default\", \"Default\", \"Default\", \"Default\", \"Default\", \"Default\", \"Default\", \"Default\", \"Default\", \"Default\", \"Default\", \"Default\", \"Default\", \"Default\", \"Default\", \"Default\", \"Default\", \"Default\", \"Default\", \"Default\", \"Default\", \"Topic1\", \"Topic1\", \"Topic1\", \"Topic1\", \"Topic1\", \"Topic1\", \"Topic1\", \"Topic1\", \"Topic1\", \"Topic1\", \"Topic1\", \"Topic1\", \"Topic1\", \"Topic1\", \"Topic1\", \"Topic1\", \"Topic1\", \"Topic1\", \"Topic1\", \"Topic1\", \"Topic1\", \"Topic1\", \"Topic1\", \"Topic1\", \"Topic1\", \"Topic1\", \"Topic1\", \"Topic1\", \"Topic1\", \"Topic1\", \"Topic1\", \"Topic1\", \"Topic1\", \"Topic1\", \"Topic1\", \"Topic1\", \"Topic1\", \"Topic1\", \"Topic1\", \"Topic1\", \"Topic1\", \"Topic1\", \"Topic1\", \"Topic1\", \"Topic1\", \"Topic1\", \"Topic1\", \"Topic1\", \"Topic1\", \"Topic1\", \"Topic1\", \"Topic1\", \"Topic1\", \"Topic1\", \"Topic1\", \"Topic1\", \"Topic1\", \"Topic2\", \"Topic2\", \"Topic2\", \"Topic2\", \"Topic2\", \"Topic2\", \"Topic2\", \"Topic2\", \"Topic2\", \"Topic2\", \"Topic2\", \"Topic2\", \"Topic2\", \"Topic2\", \"Topic2\", \"Topic2\", \"Topic2\", \"Topic2\", \"Topic2\", \"Topic2\", \"Topic2\", \"Topic2\", \"Topic2\", \"Topic2\", \"Topic2\", \"Topic2\", \"Topic2\", \"Topic2\", \"Topic2\", \"Topic2\", \"Topic2\", \"Topic2\", \"Topic2\", \"Topic2\", \"Topic2\", \"Topic2\", \"Topic2\", \"Topic2\", \"Topic2\", \"Topic2\", \"Topic2\", \"Topic2\", \"Topic2\", \"Topic2\", \"Topic2\", \"Topic2\", \"Topic2\", \"Topic2\", \"Topic2\", \"Topic2\", \"Topic2\", \"Topic3\", \"Topic3\", \"Topic3\", \"Topic3\", \"Topic3\", \"Topic3\", \"Topic3\", \"Topic3\", \"Topic3\", \"Topic3\", \"Topic3\", \"Topic3\", \"Topic3\", \"Topic3\", \"Topic3\", \"Topic3\", \"Topic3\", \"Topic3\", \"Topic3\", \"Topic3\", \"Topic3\", \"Topic3\", \"Topic3\", \"Topic3\", \"Topic3\", \"Topic3\", \"Topic3\", \"Topic3\", \"Topic3\", \"Topic3\", \"Topic3\", \"Topic3\", \"Topic3\", \"Topic3\", \"Topic3\", \"Topic3\", \"Topic3\", \"Topic3\", \"Topic3\", \"Topic3\", \"Topic3\", \"Topic3\", \"Topic3\", \"Topic3\", \"Topic3\", \"Topic3\", \"Topic3\", \"Topic3\", \"Topic3\", \"Topic3\", \"Topic3\", \"Topic3\", \"Topic3\", \"Topic3\", \"Topic3\", \"Topic3\", \"Topic3\", \"Topic4\", \"Topic4\", \"Topic4\", \"Topic4\", \"Topic4\", \"Topic4\", \"Topic4\", \"Topic4\", \"Topic4\", \"Topic4\", \"Topic4\", \"Topic4\", \"Topic4\", \"Topic4\", \"Topic4\", \"Topic4\", \"Topic4\", \"Topic4\", \"Topic4\", \"Topic4\", \"Topic4\", \"Topic4\", \"Topic4\", \"Topic4\", \"Topic4\", \"Topic4\", \"Topic4\", \"Topic4\", \"Topic4\", \"Topic4\", \"Topic4\", \"Topic4\", \"Topic4\", \"Topic4\", \"Topic4\", \"Topic4\", \"Topic4\", \"Topic4\", \"Topic4\", \"Topic4\", \"Topic4\", \"Topic4\", \"Topic4\", \"Topic4\", \"Topic4\", \"Topic4\", \"Topic4\", \"Topic4\", \"Topic4\", \"Topic4\", \"Topic4\", \"Topic5\", \"Topic5\", \"Topic5\", \"Topic5\", \"Topic5\", \"Topic5\", \"Topic5\", \"Topic5\", \"Topic5\", \"Topic5\", \"Topic5\", \"Topic5\", \"Topic5\", \"Topic5\", \"Topic5\", \"Topic5\", \"Topic5\", \"Topic5\", \"Topic5\", \"Topic5\", \"Topic5\", \"Topic5\", \"Topic5\", \"Topic5\", \"Topic5\", \"Topic5\", \"Topic5\", \"Topic5\", \"Topic5\", \"Topic5\", \"Topic5\", \"Topic5\", \"Topic5\", \"Topic5\", \"Topic5\", \"Topic5\", \"Topic5\", \"Topic5\", \"Topic5\", \"Topic5\", \"Topic5\", \"Topic5\", \"Topic5\", \"Topic5\", \"Topic5\", \"Topic5\", \"Topic5\", \"Topic5\", \"Topic5\", \"Topic5\", \"Topic5\", \"Topic5\", \"Topic5\", \"Topic5\", \"Topic5\", \"Topic5\", \"Topic6\", \"Topic6\", \"Topic6\", \"Topic6\", \"Topic6\", \"Topic6\", \"Topic6\", \"Topic6\", \"Topic6\", \"Topic6\", \"Topic6\", \"Topic6\", \"Topic6\", \"Topic6\", \"Topic6\", \"Topic6\", \"Topic6\", \"Topic6\", \"Topic6\", \"Topic6\", \"Topic6\", \"Topic6\", \"Topic6\", \"Topic6\", \"Topic6\", \"Topic6\", \"Topic6\", \"Topic6\", \"Topic6\", \"Topic6\", \"Topic6\", \"Topic6\", \"Topic6\", \"Topic6\", \"Topic7\", \"Topic7\", \"Topic7\", \"Topic7\", \"Topic7\", \"Topic7\", \"Topic7\", \"Topic7\", \"Topic7\", \"Topic7\", \"Topic7\", \"Topic7\", \"Topic7\", \"Topic7\", \"Topic7\", \"Topic7\", \"Topic7\", \"Topic7\", \"Topic7\", \"Topic7\", \"Topic7\", \"Topic7\", \"Topic7\", \"Topic7\", \"Topic7\", \"Topic7\", \"Topic7\", \"Topic7\", \"Topic7\", \"Topic7\", \"Topic7\", \"Topic7\", \"Topic7\", \"Topic7\", \"Topic7\", \"Topic7\", \"Topic7\", \"Topic7\", \"Topic7\", \"Topic7\", \"Topic7\", \"Topic7\", \"Topic7\", \"Topic7\", \"Topic7\", \"Topic7\", \"Topic7\", \"Topic7\", \"Topic7\", \"Topic7\", \"Topic8\", \"Topic8\", \"Topic8\", \"Topic8\", \"Topic8\", \"Topic8\", \"Topic8\", \"Topic8\", \"Topic8\", \"Topic8\", \"Topic8\", \"Topic8\", \"Topic8\", \"Topic8\", \"Topic8\", \"Topic8\", \"Topic8\", \"Topic8\", \"Topic8\", \"Topic8\", \"Topic8\", \"Topic8\", \"Topic8\", \"Topic8\", \"Topic8\", \"Topic8\", \"Topic8\", \"Topic8\", \"Topic8\", \"Topic8\", \"Topic8\", \"Topic8\", \"Topic8\", \"Topic8\", \"Topic8\", \"Topic8\", \"Topic8\", \"Topic8\", \"Topic8\", \"Topic8\", \"Topic8\", \"Topic8\", \"Topic8\", \"Topic8\", \"Topic9\", \"Topic9\", \"Topic9\", \"Topic9\", \"Topic9\", \"Topic9\", \"Topic9\", \"Topic9\", \"Topic9\", \"Topic9\", \"Topic9\", \"Topic9\", \"Topic9\", \"Topic9\", \"Topic9\", \"Topic9\", \"Topic9\", \"Topic9\", \"Topic9\", \"Topic9\", \"Topic9\", \"Topic9\", \"Topic9\", \"Topic9\", \"Topic9\", \"Topic9\", \"Topic9\", \"Topic9\", \"Topic9\", \"Topic9\", \"Topic9\", \"Topic9\", \"Topic9\", \"Topic9\", \"Topic9\", \"Topic9\", \"Topic9\", \"Topic9\", \"Topic10\", \"Topic10\", \"Topic10\", \"Topic10\", \"Topic10\", \"Topic10\", \"Topic10\", \"Topic10\", \"Topic10\", \"Topic10\", \"Topic10\", \"Topic10\", \"Topic10\", \"Topic10\", \"Topic10\", \"Topic10\", \"Topic10\", \"Topic10\", \"Topic10\", \"Topic10\", \"Topic10\", \"Topic10\", \"Topic10\", \"Topic10\", \"Topic10\", \"Topic10\", \"Topic10\", \"Topic10\", \"Topic10\", \"Topic10\", \"Topic10\", \"Topic10\", \"Topic10\", \"Topic10\", \"Topic10\", \"Topic10\", \"Topic10\", \"Topic11\", \"Topic11\", \"Topic11\", \"Topic11\", \"Topic11\", \"Topic11\", \"Topic11\", \"Topic11\", \"Topic11\", \"Topic11\", \"Topic11\", \"Topic11\", \"Topic11\", \"Topic11\", \"Topic11\", \"Topic11\", \"Topic11\", \"Topic11\", \"Topic11\", \"Topic11\", \"Topic11\", \"Topic11\", \"Topic11\", \"Topic11\", \"Topic11\", \"Topic11\", \"Topic11\", \"Topic11\", \"Topic11\", \"Topic11\", \"Topic11\", \"Topic11\", \"Topic11\", \"Topic11\", \"Topic11\", \"Topic11\", \"Topic11\", \"Topic11\", \"Topic11\", \"Topic11\", \"Topic11\", \"Topic11\", \"Topic11\", \"Topic11\", \"Topic12\", \"Topic12\", \"Topic12\", \"Topic12\", \"Topic12\", \"Topic12\", \"Topic12\", \"Topic12\", \"Topic12\", \"Topic12\", \"Topic12\", \"Topic12\", \"Topic12\", \"Topic12\", \"Topic12\", \"Topic12\", \"Topic12\", \"Topic12\", \"Topic12\", \"Topic12\", \"Topic12\", \"Topic12\", \"Topic12\", \"Topic12\", \"Topic12\", \"Topic12\", \"Topic12\", \"Topic12\", \"Topic12\", \"Topic12\", \"Topic12\", \"Topic12\", \"Topic12\", \"Topic12\", \"Topic12\", \"Topic12\", \"Topic12\", \"Topic12\", \"Topic12\", \"Topic12\", \"Topic12\", \"Topic12\", \"Topic12\", \"Topic12\", \"Topic12\", \"Topic12\", \"Topic12\", \"Topic13\", \"Topic13\", \"Topic13\", \"Topic13\", \"Topic13\", \"Topic13\", \"Topic13\", \"Topic13\", \"Topic13\", \"Topic13\", \"Topic13\", \"Topic13\", \"Topic13\", \"Topic13\", \"Topic13\", \"Topic13\", \"Topic13\", \"Topic13\", \"Topic13\", \"Topic13\", \"Topic13\", \"Topic13\", \"Topic13\", \"Topic13\", \"Topic13\", \"Topic13\", \"Topic13\", \"Topic13\", \"Topic13\", \"Topic13\", \"Topic13\", \"Topic13\", \"Topic13\", \"Topic13\", \"Topic13\", \"Topic13\", \"Topic13\", \"Topic14\", \"Topic14\", \"Topic14\", \"Topic14\", \"Topic14\", \"Topic14\", \"Topic14\", \"Topic14\", \"Topic14\", \"Topic14\", \"Topic14\", \"Topic14\", \"Topic14\", \"Topic14\", \"Topic14\", \"Topic14\", \"Topic14\", \"Topic14\", \"Topic14\", \"Topic14\", \"Topic14\", \"Topic14\", \"Topic14\", \"Topic14\", \"Topic14\", \"Topic14\", \"Topic14\", \"Topic14\", \"Topic14\", \"Topic14\", \"Topic14\", \"Topic14\", \"Topic14\", \"Topic14\", \"Topic14\", \"Topic15\", \"Topic15\", \"Topic15\", \"Topic15\", \"Topic15\", \"Topic15\", \"Topic15\", \"Topic15\", \"Topic15\", \"Topic15\", \"Topic15\", \"Topic15\", \"Topic15\", \"Topic15\", \"Topic15\", \"Topic15\", \"Topic15\", \"Topic15\", \"Topic15\", \"Topic15\", \"Topic15\", \"Topic15\", \"Topic15\", \"Topic15\", \"Topic15\", \"Topic15\", \"Topic15\", \"Topic15\", \"Topic15\", \"Topic15\", \"Topic15\", \"Topic15\", \"Topic16\", \"Topic16\", \"Topic16\", \"Topic16\", \"Topic16\", \"Topic16\", \"Topic16\", \"Topic16\", \"Topic16\", \"Topic16\", \"Topic16\", \"Topic16\", \"Topic16\", \"Topic16\", \"Topic16\", \"Topic16\", \"Topic16\", \"Topic16\", \"Topic16\", \"Topic16\", \"Topic16\", \"Topic16\", \"Topic16\", \"Topic16\", \"Topic16\", \"Topic16\", \"Topic16\", \"Topic16\", \"Topic16\", \"Topic16\", \"Topic16\", \"Topic16\", \"Topic16\", \"Topic16\", \"Topic16\", \"Topic16\", \"Topic16\", \"Topic16\", \"Topic17\", \"Topic17\", \"Topic17\", \"Topic17\", \"Topic17\", \"Topic17\", \"Topic17\", \"Topic17\", \"Topic17\", \"Topic17\", \"Topic17\", \"Topic17\", \"Topic17\", \"Topic17\", \"Topic17\", \"Topic17\", \"Topic17\", \"Topic17\", \"Topic17\", \"Topic17\", \"Topic17\", \"Topic17\", \"Topic17\", \"Topic17\", \"Topic17\", \"Topic17\", \"Topic17\", \"Topic17\", \"Topic17\", \"Topic17\", \"Topic17\", \"Topic17\", \"Topic17\", \"Topic17\", \"Topic17\", \"Topic18\", \"Topic18\", \"Topic18\", \"Topic18\", \"Topic18\", \"Topic18\", \"Topic18\", \"Topic18\", \"Topic18\", \"Topic18\", \"Topic18\", \"Topic18\", \"Topic18\", \"Topic18\", \"Topic18\", \"Topic18\", \"Topic18\", \"Topic18\", \"Topic18\", \"Topic18\", \"Topic18\", \"Topic18\", \"Topic18\", \"Topic18\", \"Topic18\", \"Topic18\", \"Topic18\", \"Topic18\", \"Topic18\", \"Topic18\", \"Topic18\", \"Topic18\", \"Topic19\", \"Topic19\", \"Topic19\", \"Topic19\", \"Topic19\", \"Topic19\", \"Topic19\", \"Topic19\", \"Topic19\", \"Topic19\", \"Topic19\", \"Topic19\", \"Topic19\", \"Topic19\", \"Topic19\", \"Topic19\", \"Topic19\", \"Topic19\", \"Topic19\", \"Topic19\", \"Topic19\", \"Topic19\", \"Topic19\", \"Topic19\", \"Topic19\", \"Topic19\", \"Topic19\", \"Topic19\", \"Topic19\", \"Topic19\", \"Topic19\", \"Topic20\", \"Topic20\", \"Topic20\", \"Topic20\", \"Topic20\", \"Topic20\", \"Topic20\", \"Topic20\", \"Topic20\", \"Topic20\", \"Topic20\", \"Topic20\", \"Topic20\", \"Topic20\", \"Topic20\", \"Topic20\", \"Topic20\", \"Topic20\", \"Topic20\", \"Topic20\", \"Topic20\", \"Topic20\", \"Topic20\", \"Topic20\", \"Topic20\", \"Topic20\", \"Topic20\", \"Topic20\", \"Topic20\", \"Topic20\"], \"logprob\": [30.0, 29.0, 28.0, 27.0, 26.0, 25.0, 24.0, 23.0, 22.0, 21.0, 20.0, 19.0, 18.0, 17.0, 16.0, 15.0, 14.0, 13.0, 12.0, 11.0, 10.0, 9.0, 8.0, 7.0, 6.0, 5.0, 4.0, 3.0, 2.0, 1.0, -4.026, -4.394, -4.4662, -4.4851, -4.8364, -5.0609, -5.2594, -5.2728, -5.3733, -5.3868, -5.3882, -4.5281, -5.4815, -5.5992, -5.613, -5.6376, -5.6543, -5.6661, -5.6701, -5.6811, -5.694, -5.7085, -5.8159, -5.8478, -5.9457, -5.9982, -6.0896, -6.1024, -6.1339, -6.1377, -5.6083, -4.2026, -5.3033, -5.6856, -3.8369, -4.386, -4.6659, -5.0628, -4.3871, -4.9642, -4.5536, -5.4041, -5.0244, -5.0979, -5.0308, -5.2326, -5.0381, -5.1664, -5.3115, -5.1827, -4.703, -5.0986, -5.0001, -5.0893, -4.7684, -4.8104, -5.0651, -3.7396, -3.8478, -4.3467, -4.4031, -4.4365, -4.6566, -4.6788, -4.7199, -4.8864, -4.928, -4.9772, -5.0089, -5.0549, -5.0873, -5.136, -5.1446, -5.2501, -5.3041, -5.3324, -5.3597, -5.4059, -5.418, -5.4758, -5.4767, -5.5024, -5.5966, -5.6053, -5.6058, -5.6327, -5.6345, -3.1937, -4.0377, -4.7976, -4.5186, -5.2419, -3.4845, -4.5055, -4.3253, -5.0888, -4.9273, -4.7221, -5.1991, -4.5231, -4.5987, -4.6895, -4.9221, -4.5538, -4.9276, -4.7946, -4.9665, -5.0175, -3.7129, -3.9199, -4.5407, -4.6287, -4.7349, -4.8172, -4.879, -4.904, -5.1503, -5.1785, -5.3589, -5.3674, -5.4775, -5.6877, -5.6933, -5.7049, -5.8005, -5.8445, -5.8502, -3.0798, -5.9441, -6.0225, -6.3586, -6.359, -6.4344, -6.4527, -6.4548, -6.4687, -6.4929, -6.4977, -2.982, -4.814, -5.311, -5.896, -3.038, -5.3994, -3.6483, -4.6773, -2.335, -2.438, -4.3634, -4.779, -5.0234, -5.0865, -4.1501, -4.9099, -4.3599, -4.5813, -4.7901, -4.9795, -4.9728, -4.664, -4.7918, -4.6977, -4.7976, -4.8311, -4.9628, -3.4558, -4.0551, -4.1853, -4.356, -4.5415, -4.7302, -4.872, -4.8917, -4.9383, -4.9527, -4.9765, -5.1195, -5.2867, -5.3991, -5.4752, -5.4773, -5.6063, -5.614, -5.6177, -5.629, -5.7057, -5.779, -5.9246, -5.9369, -5.9436, -6.0136, -6.0216, -6.036, -6.1112, -6.1224, -3.7373, -4.5193, -4.731, -4.5131, -4.9774, -4.6045, -3.9651, -5.0444, -4.4243, -3.6273, -4.7613, -3.6972, -4.6539, -5.13, -4.8358, -4.9381, -4.6783, -4.684, -4.7032, -4.6873, -5.0073, -4.2728, -4.2895, -4.7247, -4.7257, -4.8478, -4.8637, -4.9487, -5.1313, -5.1925, -5.2507, -5.3285, -5.3388, -5.3444, -5.3645, -5.4315, -5.4443, -5.4504, -5.4547, -5.4838, -5.4911, -5.5544, -5.5698, -5.5702, -5.5872, -5.5917, -5.5945, -5.6306, -5.6448, -5.6681, -5.6695, -4.0743, -4.9987, -5.207, -4.8844, -3.9778, -3.7703, -4.6557, -5.3615, -3.4579, -4.7798, -4.7126, -4.6674, -4.8822, -4.19, -4.9822, -4.7683, -4.7204, -5.1364, -4.3279, -4.4945, -4.4627, -4.9549, -4.9762, -4.9256, -4.8442, -4.976, -0.4672, -2.2671, -2.9913, -3.9692, -4.9205, -4.9268, -5.0696, -5.54, -5.5884, -5.6058, -5.7385, -5.8482, -5.8488, -5.9953, -6.0176, -6.2603, -6.2637, -6.3716, -6.4916, -6.5434, -6.6529, -6.7089, -6.7943, -6.8841, -6.9548, -7.0811, -7.1941, -7.3216, -7.3251, -7.3387, -5.9258, -5.3756, -6.3243, -5.3596, -3.501, -3.6134, -4.2473, -4.2488, -4.3779, -4.6045, -4.652, -4.6958, -4.6978, -4.7618, -4.8033, -4.9509, -4.9533, -5.0146, -5.12, -5.1921, -5.2426, -5.2529, -5.2719, -5.2774, -5.2777, -5.2995, -5.3147, -5.3255, -5.3412, -5.3958, -5.4565, -5.4668, -5.5617, -5.5918, -3.8902, -3.7473, -3.7309, -4.803, -4.5426, -3.7741, -4.3387, -4.6874, -3.9453, -4.257, -4.8169, -3.8055, -4.9566, -4.1777, -4.1077, -4.6576, -4.5824, -3.9153, -4.4332, -4.9045, -2.7859, -3.0891, -3.3654, -3.6313, -3.7585, -3.8601, -3.8827, -3.9125, -3.9704, -4.2824, -4.3978, -4.407, -4.4195, -4.5114, -4.6495, -4.7051, -4.959, -4.9634, -5.0055, -5.0447, -5.1882, -5.2605, -5.3115, -5.315, -5.3399, -5.3858, -5.4537, -5.6742, -5.6866, -5.7819, -3.977, -3.4197, -2.5876, -4.0739, -4.1614, -4.5907, -4.2756, -4.3704, -4.308, -4.1256, -3.7384, -4.1168, -4.5236, -4.2233, -2.7463, -2.7558, -3.8975, -3.953, -3.9846, -4.1603, -4.1658, -4.1983, -4.2231, -4.2338, -4.334, -4.3696, -4.3886, -4.4747, -4.4788, -4.4853, -4.5758, -4.6152, -4.6314, -4.6812, -4.8158, -4.8288, -4.9816, -5.0142, -5.02, -5.0299, -5.0318, -5.0523, -5.1069, -5.1157, -3.2085, -4.4562, -4.2333, -4.124, -4.7618, -4.3838, -4.5954, -4.0165, -2.5873, -3.0229, -3.7416, -3.7441, -3.7483, -3.8303, -4.0433, -4.0812, -4.1372, -4.2497, -4.2504, -4.3954, -4.4521, -4.5491, -4.5754, -4.5944, -4.5963, -4.6252, -4.7418, -4.7701, -4.8404, -4.8865, -4.9812, -5.0098, -5.036, -5.1373, -5.1804, -5.1844, -5.2715, -5.2823, -3.3704, -3.9637, -4.9882, -4.5386, -4.8856, -4.8881, -4.7462, -3.5048, -3.6735, -3.8245, -3.9772, -4.0769, -4.1793, -4.3115, -4.3587, -4.4244, -4.6476, -4.7606, -4.8648, -4.9173, -4.9448, -4.9742, -5.0063, -5.0194, -5.0986, -5.1254, -5.1274, -5.1536, -5.1835, -5.2169, -5.238, -5.2652, -5.3152, -5.351, -5.4914, -5.5634, -5.5717, -3.7704, -3.6157, -3.9622, -3.4139, -4.524, -4.0235, -4.2675, -4.3707, -4.082, -4.8501, -4.8568, -5.0513, -4.7788, -4.9161, -2.0587, -3.3815, -3.5598, -3.8422, -3.9027, -4.1369, -4.2055, -4.2637, -4.3695, -4.4398, -4.6109, -4.7704, -4.9101, -4.9312, -5.0028, -5.014, -5.053, -5.1881, -5.2011, -5.2043, -5.2647, -5.3672, -5.4092, -5.4532, -5.463, -5.4892, -5.5109, -5.5444, -5.621, -5.6815, -4.7137, -4.1243, -4.0413, -3.88, -4.1092, -5.2385, -3.5758, -4.05, -4.3868, -4.6763, -4.3379, -4.5147, -4.8525, -4.9472, -4.735, -4.7444, -4.9364, -2.1875, -2.8197, -3.2465, -3.3133, -3.3433, -3.6466, -3.6709, -3.6864, -3.7572, -3.915, -4.0905, -4.5453, -4.5961, -4.8475, -4.8596, -4.8702, -4.9214, -4.9932, -5.0409, -5.1868, -5.2535, -5.2698, -5.3513, -5.5148, -5.5684, -5.5772, -5.5795, -5.6573, -5.6666, -5.674, -3.4588, -4.3068, -3.7292, -4.6079, -4.192, -4.6961, -5.3027, -3.0566, -3.3857, -3.5674, -3.6915, -3.7135, -3.8027, -3.8578, -3.8824, -4.1929, -4.2676, -4.3034, -4.3923, -4.3963, -4.4595, -4.4664, -4.4753, -4.5336, -4.5575, -4.6229, -4.706, -4.7283, -4.7681, -4.888, -4.9191, -4.94, -4.9811, -4.9815, -5.0188, -5.0394, -5.0987, -3.5219, -4.1538, -4.0963, -4.6481, -4.8994, -3.037, -3.2467, -3.3057, -3.4919, -3.6106, -3.6354, -3.6539, -3.8659, -3.8745, -3.9006, -4.2253, -4.2668, -4.2992, -4.3357, -4.3362, -4.4019, -4.4084, -4.4205, -4.4526, -4.4566, -4.4914, -4.5344, -4.7796, -4.7825, -4.8184, -4.8292, -4.8632, -4.8999, -4.9592, -4.9798, -4.886, -4.7384, -2.0229, -3.4132, -3.4998, -3.5209, -3.5437, -3.5691, -3.7438, -3.8121, -3.9022, -3.9846, -4.0995, -4.1905, -4.2159, -4.3339, -4.5174, -4.6734, -4.8412, -4.8439, -4.8655, -4.8676, -4.8748, -5.0146, -5.2732, -5.2899, -5.3023, -5.3159, -5.4319, -5.5023, -5.5429, -5.5459, -4.2424, -3.3923, -4.5926, -4.8177, -4.7568, -4.5697, -4.7088, -5.1672, -2.8056, -2.9172, -3.5183, -3.7412, -3.7517, -3.7999, -3.8924, -3.9061, -3.9237, -3.9661, -4.0383, -4.1324, -4.1865, -4.5266, -4.5295, -4.6412, -4.7151, -4.8091, -4.844, -4.9642, -5.1011, -5.1167, -5.2157, -5.2361, -5.2512, -5.3124, -5.4215, -5.4414, -5.49, -5.5228, -4.5733, -4.48, -4.7607, -5.1056, -5.1589, -1.7518, -2.9338, -4.0658, -4.1289, -4.1612, -4.3682, -4.4735, -4.5843, -4.7567, -4.772, -4.7817, -4.9203, -4.9559, -4.9786, -4.9867, -5.0313, -5.0625, -5.1261, -5.1613, -5.1854, -5.2512, -5.2586, -5.4245, -5.7092, -5.8705, -6.0053, -6.1384, -6.4096, -3.024, -5.2448, -3.6621, -5.3075, -2.323, -3.2169, -3.6636, -3.683, -3.7971, -3.9827, -4.0651, -4.1339, -4.2207, -4.2955, -4.4369, -4.4763, -4.4999, -4.5149, -4.6034, -4.6618, -4.6866, -4.8013, -4.8637, -4.9718, -5.0488, -5.1336, -5.224, -5.2873, -5.3604, -5.572, -5.6476, -5.707, -5.8898, -3.8882, -3.7635, -2.4169, -2.8445, -3.0007, -3.4029, -3.4722, -4.0278, -4.1332, -4.6434, -5.1236, -5.3424, -5.8054, -11.5521, -11.5528, -11.553, -11.5531, -11.5532, -11.5532, -11.5533, -11.5533, -11.5533, -11.5534, -11.5534, -11.5534, -11.5534, -11.5534, -11.5534, -11.5533, -11.5534, -11.5535, -11.5535], \"loglift\": [30.0, 29.0, 28.0, 27.0, 26.0, 25.0, 24.0, 23.0, 22.0, 21.0, 20.0, 19.0, 18.0, 17.0, 16.0, 15.0, 14.0, 13.0, 12.0, 11.0, 10.0, 9.0, 8.0, 7.0, 6.0, 5.0, 4.0, 3.0, 2.0, 1.0, 0.8764, 0.8763, 0.8763, 0.8763, 0.8762, 0.8762, 0.8761, 0.8761, 0.876, 0.876, 0.876, 0.876, 0.876, 0.8759, 0.8759, 0.8759, 0.8759, 0.8759, 0.8759, 0.8759, 0.8759, 0.8759, 0.8758, 0.8758, 0.8757, 0.8757, 0.8756, 0.8756, 0.8756, 0.8756, 0.8741, 0.8431, 0.8639, 0.871, 0.8102, 0.7915, 0.7901, 0.8124, 0.7272, 0.7901, 0.7079, 0.8235, 0.7445, 0.7502, 0.7118, 0.7653, 0.7026, 0.6988, 0.755, 0.6904, 0.4147, 0.589, 0.4749, 0.565, -0.3887, -0.3453, 0.1802, 2.3258, 2.3258, 2.3255, 2.3255, 2.3255, 2.3253, 2.3253, 2.3252, 2.3251, 2.325, 2.325, 2.3249, 2.3249, 2.3248, 2.3248, 2.3247, 2.3246, 2.3245, 2.3244, 2.3244, 2.3243, 2.3243, 2.3242, 2.3242, 2.3241, 2.3239, 2.3239, 2.3239, 2.3238, 2.3238, 2.3079, 2.2242, 2.2354, 2.1933, 2.2594, 1.9203, 2.1141, 2.0367, 2.2104, 2.1333, 2.0105, 2.236, 1.8533, 1.7817, 1.8, 1.9079, 0.9212, 1.6512, 0.9752, 1.1397, 1.5771, 2.376, 2.3759, 2.3755, 2.3755, 2.3754, 2.3753, 2.3752, 2.3752, 2.3748, 2.3748, 2.3745, 2.3745, 2.3743, 2.3738, 2.3737, 2.3737, 2.3735, 2.3733, 2.3733, 2.3732, 2.373, 2.3727, 2.3713, 2.3713, 2.3709, 2.3708, 2.3708, 2.3707, 2.3706, 2.3705, 2.3621, 2.3606, 2.3655, 2.3701, 2.3377, 2.3572, 2.2474, 2.2832, 2.0447, 2.0271, 2.1768, 2.2072, 2.2209, 2.2182, 1.9941, 2.1474, 1.9169, 1.8567, 1.9785, 2.0683, 1.8723, 1.3807, 1.4378, 1.0722, 1.0576, 1.0754, 1.3711, 2.4381, 2.4378, 2.4378, 2.4376, 2.4375, 2.4373, 2.4371, 2.4371, 2.4371, 2.437, 2.437, 2.4368, 2.4365, 2.4363, 2.4361, 2.4361, 2.4358, 2.4358, 2.4358, 2.4358, 2.4355, 2.4353, 2.4349, 2.4348, 2.4348, 2.4345, 2.4345, 2.4344, 2.4341, 2.4341, 2.3797, 2.2684, 2.286, 2.2555, 2.2936, 2.2416, 2.1242, 2.2708, 2.0904, 1.6181, 2.0499, 1.4206, 1.8438, 2.0603, 1.8033, 1.8817, 1.4864, 1.3607, 1.1973, 0.5741, 1.4346, 2.821, 2.821, 2.8205, 2.8205, 2.8203, 2.8202, 2.8201, 2.8197, 2.8195, 2.8194, 2.8192, 2.8191, 2.8191, 2.8191, 2.8189, 2.8188, 2.8188, 2.8188, 2.8187, 2.8187, 2.8185, 2.8184, 2.8184, 2.8183, 2.8183, 2.8183, 2.8182, 2.8181, 2.818, 2.818, 2.7965, 2.81, 2.8046, 2.7934, 2.725, 2.7108, 2.7445, 2.7967, 2.5412, 2.6895, 2.6736, 2.6566, 2.6733, 2.4291, 2.6723, 2.5132, 2.4395, 2.6322, 1.5658, 1.7351, 1.6844, 2.2276, 2.1498, 1.6532, 0.8101, 1.6186, 2.8923, 2.8922, 2.892, 2.8916, 2.8904, 2.8904, 2.8901, 2.8888, 2.8886, 2.8885, 2.888, 2.8875, 2.8875, 2.8867, 2.8866, 2.885, 2.885, 2.8842, 2.8832, 2.8827, 2.8816, 2.881, 2.8799, 2.8788, 2.8778, 2.8759, 2.8739, 2.8714, 2.8714, 2.8711, 2.6115, 1.8069, 1.8787, 0.6382, 3.3278, 3.3277, 3.327, 3.327, 3.3266, 3.3263, 3.3262, 3.3261, 3.3261, 3.3259, 3.3258, 3.3254, 3.3254, 3.3252, 3.3248, 3.3245, 3.3243, 3.3242, 3.3241, 3.3241, 3.3241, 3.324, 3.324, 3.3239, 3.3238, 3.3236, 3.3233, 3.3232, 3.3227, 3.3225, 3.3006, 3.281, 3.2565, 3.2942, 3.2601, 3.1759, 3.22, 3.2397, 3.1229, 3.1484, 3.2289, 2.9985, 3.236, 2.9649, 2.9185, 2.9269, 2.85, 1.9063, 1.9431, 3.1285, 3.6473, 3.6471, 3.6469, 3.6466, 3.6465, 3.6463, 3.6463, 3.6463, 3.6462, 3.6456, 3.6453, 3.6453, 3.6452, 3.645, 3.6445, 3.6444, 3.6433, 3.6433, 3.6431, 3.6429, 3.6422, 3.6418, 3.6415, 3.6414, 3.6413, 3.641, 3.6405, 3.6387, 3.6386, 3.6376, 3.5899, 3.5547, 3.5183, 3.4419, 3.4137, 3.4925, 3.3216, 3.2741, 3.155, 2.8059, 2.1372, 2.2666, 2.7553, 1.8829, 3.6498, 3.6498, 3.6487, 3.6486, 3.6486, 3.6482, 3.6482, 3.6482, 3.6481, 3.6481, 3.6478, 3.6478, 3.6477, 3.6475, 3.6475, 3.6475, 3.6472, 3.6471, 3.647, 3.6469, 3.6464, 3.6463, 3.6457, 3.6455, 3.6455, 3.6454, 3.6454, 3.6453, 3.6451, 3.645, 3.622, 3.5529, 3.4956, 3.4572, 3.5719, 3.3945, 3.0199, 1.6378, 3.6952, 3.695, 3.6943, 3.6943, 3.6943, 3.6941, 3.6938, 3.6937, 3.6936, 3.6933, 3.6933, 3.693, 3.6928, 3.6925, 3.6924, 3.6924, 3.6924, 3.6923, 3.6919, 3.6917, 3.6915, 3.6913, 3.6908, 3.6907, 3.6906, 3.69, 3.6898, 3.6897, 3.6892, 3.6891, 3.573, 3.5237, 3.5538, 3.1524, 3.4024, 3.1481, 2.0821, 3.9574, 3.9571, 3.9568, 3.9565, 3.9563, 3.956, 3.9556, 3.9554, 3.9552, 3.9543, 3.9538, 3.9532, 3.953, 3.9528, 3.9526, 3.9524, 3.9523, 3.9518, 3.9516, 3.9516, 3.9514, 3.9512, 3.9509, 3.9508, 3.9505, 3.9501, 3.9498, 3.9484, 3.9477, 3.9476, 3.8553, 3.8073, 3.8327, 3.4807, 3.7233, 3.0768, 3.0786, 2.8196, 1.1634, 2.9651, 2.8342, 3.5018, 1.7024, 2.4272, 4.6582, 4.6564, 4.6559, 4.6549, 4.6546, 4.6535, 4.6531, 4.6527, 4.652, 4.6515, 4.6502, 4.6487, 4.6471, 4.6469, 4.646, 4.6459, 4.6453, 4.6434, 4.6432, 4.6431, 4.6422, 4.6404, 4.6396, 4.6387, 4.6385, 4.638, 4.6375, 4.6368, 4.6351, 4.6336, 4.5453, 4.3944, 4.3516, 4.293, 4.2645, 4.4795, 2.5301, 2.7336, 3.0762, 3.5197, 2.9129, 3.1787, 3.2793, 3.4579, 2.215, 2.23, 2.3424, 4.6976, 4.6969, 4.6961, 4.6959, 4.6958, 4.6949, 4.6948, 4.6948, 4.6945, 4.6938, 4.693, 4.6899, 4.6894, 4.6869, 4.6867, 4.6866, 4.686, 4.6851, 4.6844, 4.6822, 4.6811, 4.6808, 4.6794, 4.676, 4.6748, 4.6746, 4.6746, 4.6726, 4.6724, 4.6722, 4.6176, 4.6328, 4.3634, 3.9585, 3.1541, 2.7269, 1.6847, 4.7397, 4.7389, 4.7383, 4.7379, 4.7378, 4.7375, 4.7372, 4.7371, 4.7354, 4.735, 4.7347, 4.7341, 4.734, 4.7335, 4.7335, 4.7334, 4.7329, 4.7327, 4.7321, 4.7313, 4.731, 4.7306, 4.7292, 4.7288, 4.7285, 4.728, 4.728, 4.7275, 4.7272, 4.7263, 4.1296, 3.7386, 3.6398, 4.2244, 3.8296, 4.7642, 4.7637, 4.7636, 4.763, 4.7626, 4.7625, 4.7625, 4.7616, 4.7615, 4.7614, 4.7596, 4.7593, 4.7591, 4.7588, 4.7588, 4.7583, 4.7583, 4.7582, 4.7579, 4.7579, 4.7576, 4.7572, 4.7547, 4.7547, 4.7543, 4.7541, 4.7537, 4.7533, 4.7525, 4.7522, 4.6958, 3.7281, 4.8096, 4.8072, 4.807, 4.8069, 4.8068, 4.8067, 4.806, 4.8057, 4.8053, 4.8049, 4.8042, 4.8036, 4.8034, 4.8026, 4.801, 4.7995, 4.7975, 4.7975, 4.7972, 4.7971, 4.7971, 4.7951, 4.7906, 4.7903, 4.79, 4.7898, 4.7873, 4.7856, 4.7846, 4.7845, 4.446, 4.0232, 4.3935, 4.097, 3.7963, 3.4594, 2.3988, 3.5401, 5.197, 5.1967, 5.1944, 5.1931, 5.1931, 5.1928, 5.1921, 5.192, 5.1919, 5.1915, 5.191, 5.1901, 5.1896, 5.1856, 5.1856, 5.184, 5.1828, 5.1811, 5.1805, 5.1781, 5.175, 5.1746, 5.1721, 5.1715, 5.1711, 5.1693, 5.1659, 5.1653, 5.1636, 5.1624, 4.8403, 4.2837, 3.7766, 2.8226, 3.2277, 5.4278, 5.4254, 5.4179, 5.4172, 5.4168, 5.414, 5.4124, 5.4104, 5.407, 5.4067, 5.4064, 5.4031, 5.4022, 5.4016, 5.4014, 5.4002, 5.3993, 5.3973, 5.3962, 5.3954, 5.3932, 5.393, 5.3866, 5.373, 5.3636, 5.3545, 5.3443, 5.3193, 5.2393, 5.1961, 4.3741, 1.5871, 5.6615, 5.6579, 5.6546, 5.6544, 5.6532, 5.651, 5.6499, 5.6489, 5.6476, 5.6463, 5.6437, 5.6429, 5.6424, 5.642, 5.64, 5.6386, 5.638, 5.6349, 5.633, 5.6296, 5.6269, 5.6236, 5.6199, 5.6171, 5.6136, 5.6021, 5.5974, 5.5935, 5.58, 5.5669, 4.7597, 6.3037, 6.3009, 6.2995, 6.2949, 6.294, 6.283, 6.2802, 6.2615, 6.2334, 6.2158, 6.1648, 2.4062, 2.4056, 2.4054, 2.4053, 2.4052, 2.4052, 2.4051, 2.4051, 2.4051, 2.4051, 2.4051, 2.4051, 2.4051, 2.405, 2.405, 2.405, 2.405, 2.405, 2.405]}, \"token.table\": {\"Topic\": [6, 13, 13, 17, 19, 11, 15, 20, 7, 6, 20, 14, 16, 8, 14, 2, 1, 3, 6, 12, 13, 13, 14, 16, 15, 8, 8, 18, 8, 2, 5, 10, 19, 3, 19, 19, 18, 13, 1, 2, 3, 2, 3, 6, 12, 17, 1, 6, 1, 1, 2, 3, 4, 1, 11, 12, 15, 4, 1, 2, 3, 1, 2, 8, 12, 19, 3, 4, 7, 16, 10, 11, 1, 2, 1, 6, 7, 19, 11, 13, 15, 18, 15, 1, 2, 3, 7, 13, 17, 1, 2, 3, 4, 15, 14, 1, 5, 14, 4, 1, 10, 11, 8, 1, 2, 4, 15, 6, 8, 9, 8, 6, 10, 1, 2, 4, 3, 9, 11, 1, 13, 16, 9, 1, 7, 7, 8, 12, 15, 2, 8, 5, 7, 12, 13, 12, 14, 3, 10, 3, 4, 16, 17, 4, 1, 4, 5, 11, 2, 3, 4, 11, 3, 1, 5, 9, 16, 8, 11, 8, 2, 4, 5, 2, 18, 2, 8, 2, 3, 4, 5, 7, 11, 19, 6, 1, 4, 1, 4, 11, 3, 1, 2, 7, 11, 4, 11, 17, 13, 19, 6, 17, 12, 4, 1, 4, 1, 16, 7, 19, 2, 19, 4, 12, 16, 1, 18, 17, 2, 3, 1, 12, 14, 3, 4, 6, 1, 4, 11, 2, 1, 16, 1, 16, 9, 9, 19, 10, 11, 18, 1, 1, 4, 17, 20, 12, 2, 8, 1, 3, 7, 14, 12, 11, 5, 15, 16, 18, 10, 14, 3, 7, 8, 2, 8, 11, 16, 14, 15, 1, 11, 14, 12, 9, 9, 4, 14, 7, 1, 7, 13, 2, 4, 8, 4, 1, 2, 4, 5, 10, 1, 5, 10, 5, 16, 10, 18, 4, 1, 5, 11, 1, 10, 8, 1, 2, 4, 1, 10, 13, 14, 2, 4, 13, 3, 3, 15, 1, 7, 10, 1, 5, 19, 1, 4, 5, 13, 5, 19, 7, 16, 1, 3, 5, 1, 3, 7, 2, 7, 9, 1, 2, 4, 13, 2, 4, 5, 9, 1, 4, 17, 1, 2, 4, 8, 11, 12, 12, 15, 4, 4, 13, 19, 14, 10, 3, 2, 3, 18, 10, 14, 14, 19, 1, 17, 1, 4, 12, 13, 9, 3, 12, 9, 12, 1, 6, 8, 10, 16, 7, 5, 10, 1, 9, 10, 1, 8, 14, 11, 5, 13, 4, 11, 4, 7, 4, 16, 7, 4, 14, 7, 18, 19, 2, 7, 11, 11, 18, 13, 8, 13, 12, 1, 1, 2, 10, 11, 13, 14, 1, 9, 6, 1, 14, 4, 11, 5, 4, 7, 3, 1, 14, 1, 4, 3, 4, 1, 3, 1, 2, 8, 11, 11, 18, 8, 1, 5, 18, 1, 8, 17, 5, 14, 15, 14, 4, 17, 14, 9, 10, 5, 7, 7, 11, 15, 15, 4, 9, 5, 4, 16, 2, 2, 8, 7, 4, 5, 14, 13, 2, 3, 4, 12, 9, 17, 1, 16, 9, 3, 3, 12, 5, 9, 10, 5, 7, 12, 1, 4, 1, 4, 1, 5, 6, 1, 11, 18, 1, 17, 6, 1, 2, 5, 11, 3, 3, 1, 6, 7, 15, 9, 10, 8, 2, 6, 2, 13, 1, 2, 8, 11, 2, 4, 2, 4, 11, 7, 1, 2, 15, 15, 18, 9, 18, 12, 13, 7, 10, 5, 11, 6, 2, 5, 3, 9, 1, 4, 9, 16, 17, 17, 11, 13, 11, 14, 11, 16, 4, 1, 4, 11, 4, 10, 11, 12, 4, 16, 9, 8, 15, 9, 1, 4, 5, 13, 1, 4, 10, 5, 15, 10, 20, 15, 19, 1, 3, 4, 10, 11, 17, 7, 9, 18, 3, 12, 2, 16, 10, 14, 2, 4, 2, 3, 7, 11, 17, 8, 17, 4, 8, 16, 15, 10, 1, 3, 20, 5, 2, 3, 18, 17, 2, 1, 3, 4, 8, 7, 16, 11, 18, 19, 17, 13, 1, 4, 9, 9, 1, 4, 5, 10, 6, 5, 9, 5, 1, 18, 18, 18, 1, 2, 8, 1, 2, 12, 13, 6, 12, 7, 1, 2, 3, 8, 6, 2, 3, 1, 9, 10, 8, 12, 16, 6, 17, 1, 2, 3, 4, 9, 12, 8, 15, 17, 2, 1, 5, 7, 2, 2, 1, 2, 3, 11, 6, 9, 1, 3, 4, 5, 2, 10, 16, 12, 1, 17, 12, 1, 5, 9, 16, 16, 9, 11, 13, 1, 5, 4, 5, 11, 1, 14, 18, 10, 11, 2, 4, 7, 18, 12, 19, 13, 11, 13, 19, 2, 7, 12, 9, 11, 1, 12, 7, 6, 2, 2, 17, 3, 9, 10, 19, 11, 16, 1, 7, 13, 15, 20, 7, 18, 2, 3, 8, 20, 3, 17, 13, 8, 12, 1, 4, 7, 11, 2, 5, 19, 1, 4, 5, 6, 3, 19, 5, 8, 15, 14, 12, 18, 17, 1, 3, 14, 7, 3, 3, 17, 13, 20, 6, 2, 15, 18, 3, 7, 5, 12, 13, 8, 7, 14, 10, 13, 15, 1, 3, 7, 8, 12, 17, 1, 7, 1, 4, 5, 5, 19, 4, 1, 2, 3, 7, 16, 5, 7, 1, 2, 3, 8, 15, 11, 18, 12, 1, 11, 16, 14, 1, 11, 12, 10, 7, 5, 8, 2, 15, 10, 1, 2, 3, 4, 12, 14, 9, 4, 5, 16, 1, 4, 5, 1, 2, 8, 16, 6, 9, 4, 7, 9, 10, 18, 20, 14, 5, 6, 1, 5, 11, 19, 16, 1, 3, 11, 7, 5, 14, 10, 18, 7, 13, 4, 5, 11, 10, 4, 6, 14, 8, 12, 3, 1, 11, 12, 1, 8, 4, 1, 3, 15, 1, 13, 8, 2, 8, 1, 5, 1, 2, 4, 5, 8, 9, 12, 5, 1, 2, 8, 12, 5, 10, 2, 10, 12, 10, 18, 1, 2, 3, 7, 6, 4, 14, 2, 4, 1, 7, 8, 12, 1, 3, 1, 3, 4, 1, 9, 11, 7, 19, 9, 19, 1, 15, 2, 15, 10, 6, 16, 15, 8, 10, 11, 13, 19, 1, 2, 3, 4, 17, 13, 1, 2, 3, 7, 17, 16, 6, 8, 1, 2, 3, 4, 7, 1, 3, 4, 6, 2, 3, 6, 5, 2, 6, 1, 4, 5, 9, 3, 8, 1, 7, 3, 1, 4, 11, 1, 4, 11, 4, 13, 5, 7, 10, 2, 11, 2, 7, 16, 1, 3, 19, 10, 12, 1, 11, 16, 2, 1, 17, 10, 1, 3, 6, 11, 10, 5, 16, 11, 1, 2, 4, 5, 1, 2, 7, 20, 20, 2, 3, 3, 11, 9, 2, 16, 5, 11, 16, 11, 5, 8, 19, 2, 7, 12, 15, 11, 18, 1, 3, 4, 3, 5, 11, 1, 17, 13, 17, 12, 1, 5, 9, 11, 6, 7, 4, 5, 7, 10, 11, 1, 3, 6, 17, 18, 1, 7, 8, 12, 19], \"Freq\": [0.9999226141148834, 0.9841058333783977, 0.9871937522176253, 0.9908974657092624, 0.984287139576661, 0.9945996767914385, 0.995536793547121, 0.9795855640043422, 0.9943392908950327, 0.99909717217529, 0.9964669115708813, 0.9921872199774177, 0.9955121259059136, 0.9941622546925868, 0.9964480802824558, 0.9969329314528078, 0.20342862454971475, 0.7952907737113377, 0.9949822758586285, 0.9831146673598511, 0.9983735333004866, 0.9968956818171918, 0.9906077701260404, 0.9924143873961535, 0.9965145851299239, 0.9989291978697805, 0.9860164367720782, 0.897949636423932, 0.9984787556814362, 0.09155799338314352, 0.907501287356452, 0.9940344609563474, 0.9907781947196903, 0.9980405163094791, 0.9088056031893859, 0.9831640392772681, 0.9777408671250462, 0.9964719111061483, 0.03574947690824722, 0.11940325287354572, 0.8444026445727993, 0.9987270498188741, 0.26472865320139, 0.039826434552421505, 0.6934485075009862, 0.9694481051872247, 0.9875630439027532, 0.012293315899204396, 0.9993545949241965, 0.2733486090422507, 0.07671636711540006, 0.36607858676911775, 0.28377607641715946, 0.6178809834672788, 0.15374503344490975, 0.2277167004797248, 0.9927079020168526, 0.9975496117320114, 0.469280240141981, 0.2588986245839733, 0.27139864000987707, 0.08523716760352071, 0.09790755738242243, 0.6104824166198104, 0.2050299436949552, 0.9916406399776441, 0.8561883696022229, 0.006479263337530335, 0.13699013913635566, 0.9697266741042048, 0.8844006548476516, 0.11440349291987437, 0.34127566179874796, 0.6580871184506323, 0.9992725128815801, 0.36212062673383005, 0.634918165539982, 0.9940076285884705, 0.2810421808344052, 0.7155766296629855, 0.9881502628069528, 0.990497166113186, 0.9917702993530855, 0.05721769563146704, 0.08605541422972643, 0.8188996598775563, 0.03707706676919064, 0.2916307783716069, 0.6966735261099498, 0.5591553289727483, 0.048094159485927095, 0.27229067062487006, 0.11999249891943427, 0.9950145112272797, 0.9878902522968834, 0.6282481499372844, 0.0035394261968297713, 0.36633061137188133, 0.9997179347636244, 0.9998797231655431, 0.8674567475450048, 0.12876311096371165, 0.9990562522374746, 0.013094288991379663, 0.8249402064569187, 0.16175298165821936, 0.9975242575030063, 0.9945075619755441, 0.9431797722361878, 0.05495491897853127, 0.9966174689384955, 0.9952161101982997, 0.9977150429308481, 0.10618343312533564, 0.03391970780392666, 0.8583160844297965, 0.9841737567728198, 0.014676275320296436, 0.9896182106950734, 0.9994445213243855, 0.9971373626348897, 0.9993789867166479, 0.9951511162136373, 0.10139990948845025, 0.8973891989727848, 0.8585089980190322, 0.05378610589998756, 0.0868852479922876, 0.9975924440777867, 0.9140698978221364, 0.08513396107166957, 0.026319199195402765, 0.9720557569502087, 0.9756642084856839, 0.9761675324091248, 0.9945102088380611, 0.9899557394059092, 0.9983992467381547, 0.9994013374116293, 0.2664114858466291, 0.6426167961633841, 0.08961113614841161, 0.9927387643211357, 0.9961847025933179, 0.23853077046965476, 0.1411891692853471, 0.29904041444908924, 0.3200872471375882, 0.8087390400140435, 0.021804238823908036, 0.1402408997083176, 0.028246400294608138, 0.9972714948790377, 0.05052170461367174, 0.1736683596094966, 0.7736136018968485, 0.9709267245237303, 0.9965898264188464, 0.9951626642664273, 0.9977907540589513, 0.4727077335227326, 0.22668704194495048, 0.30015491054971055, 0.9988279190773566, 0.9630583124519277, 0.20743531516605435, 0.7910887174655737, 0.6232532048591553, 0.027976453085947116, 0.061781333898133214, 0.027976453085947116, 0.2502338303798603, 0.008548360665150507, 0.9828799122361831, 0.9893183662448367, 0.9173652498861726, 0.08251023931645798, 0.17777613517444632, 0.8211268341449076, 0.9976117229341734, 0.9988891509079909, 0.007804092744687014, 0.24973096782998444, 0.6685506117948542, 0.07153751682629762, 0.9979125578919111, 0.5963078066026751, 0.4017676711152776, 0.08443599944172812, 0.9034651940264908, 0.9872550351613681, 0.9737553441940557, 0.9845105113307151, 0.9987526258187659, 0.9185472879957033, 0.0813205533702026, 0.9996536045841128, 0.9870909782740412, 0.9992868567740204, 0.9843651025264428, 0.9991252093380072, 0.9736842398108684, 0.9985746378274718, 0.7680070840695596, 0.2284159000034466, 0.9998502077017459, 0.977626273896627, 0.980566456269373, 0.9030911727760578, 0.09668550928799698, 0.16637498333750225, 0.7355525579131679, 0.0963223587743434, 0.9924988956241086, 0.0025712406622386236, 0.9879699244698941, 0.4984633161550374, 0.4402779127095186, 0.061069593702516536, 0.9977068816194408, 0.9992640127540012, 0.993962038798948, 0.7155628823910148, 0.27982906015291087, 0.999452504051932, 0.9948030075174573, 0.9625397067508574, 0.5782659450255255, 0.07151698966746782, 0.34736823552770085, 0.9997665317522035, 0.8403904267356956, 0.15927085952336642, 0.9967229869915679, 0.8992482133093124, 0.9966960318220877, 0.5680025010370034, 0.4305716217634496, 0.2821842273659051, 0.7177546830326116, 0.9964633642928261, 0.9870588599781052, 0.9945058797957749, 0.9960515769441693, 0.9978914599725831, 0.9913169066185795, 0.9858781928637312, 0.984255930706201, 0.9973566334906626, 0.9910280676979515, 0.0024287482420773166, 0.18215611815579874, 0.8136306610959011, 0.8756123246637166, 0.12392278710324481, 0.9915518995478884, 0.978168112331436, 0.057510541027696455, 0.929753746614426, 0.38800937533230223, 0.0681450157393649, 0.5423786967010676, 0.9913532147433113, 0.9981664023870129, 0.9972046518153286, 0.9966096599911529, 0.9922636359855602, 0.99708747670026, 0.9997025934130062, 0.9969360691365979, 0.989780041615982, 0.9981052177585947, 0.9983613088545508, 0.9958576729818897, 0.9961415155590184, 0.5403778423821486, 0.05406868062714466, 0.07971268343887612, 0.3207045170912923, 0.004943422228767511, 0.1365277823595925, 0.8618316261449278, 0.9967133961635621, 0.9979323608932168, 0.9872066071834341, 0.9976437511017369, 0.9454284908456232, 0.9991351122965063, 0.9992470715466079, 0.9975328149199918, 0.9904279112636456, 0.25233463311587323, 0.746489956301125, 0.9945936585218638, 0.33324831489798135, 0.6663495652262813, 0.00014706456968136865, 0.7998956740513106, 0.19905800743566965, 0.9692283536900437, 0.9958877184137487, 0.9986345341429994, 0.9969288165238859, 0.9894160765814995, 0.9976832235894443, 0.9985034291326027, 0.9934340696757124, 0.020154677229388563, 0.9142894488604448, 0.06229627507265555, 0.2641980824629791, 0.7339903090971492, 0.9685418771998471, 0.18039950921429576, 0.06341962066913204, 0.7551731301526059, 0.0005329379888162356, 0.9955734999508077, 0.9564762012019196, 0.9986581376843544, 0.9971989959661682, 0.9358380695096019, 0.06404372497785785, 0.9973374176695625, 0.013979664386038862, 0.9859123705124239, 0.9982276866459854, 0.06471236893032763, 0.933475921819976, 0.9974710433163467, 0.31933650763398824, 0.0018007697798909112, 0.6782899504255765, 0.9821046344992058, 0.04606456982351082, 0.278368690761431, 0.6751183727897339, 0.9985205182290879, 0.05666429756732208, 0.942905903964169, 0.9977343093944337, 0.8814007636774455, 0.0052696172509959045, 0.11318221399965117, 0.8785132059351708, 0.002075461505753019, 0.11889429482956582, 0.9943073414742246, 0.9877761529439814, 0.9963783139371533, 0.9982193824390637, 0.972149279452904, 0.9710587813058199, 0.9935738938473629, 0.9988157018033776, 0.9936016476017393, 0.9979476682923942, 0.9810145968858126, 0.016993953646840847, 0.9968440029172699, 0.9900696216559551, 0.9830924786026909, 0.9785429129435876, 0.9993230679656288, 0.982841353670054, 0.8482099981980006, 0.15153970556041088, 0.9829714151967184, 0.9905928441172562, 0.9952063783781376, 0.9989683797401828, 0.981658581142471, 0.9979256372478812, 0.9784807598867667, 0.9994705941558444, 0.9819702312499335, 0.9935654824408129, 0.998448955922118, 0.9974050836457551, 0.9994943147226885, 0.996575413847884, 0.9982712836683953, 0.9997104574040006, 0.9244767771810749, 0.07153689347234508, 0.9991013934550766, 0.9969511942366244, 0.9905865564732447, 0.9972046809086137, 0.9984602814709874, 0.9979491340835448, 0.5850239787222317, 0.41432520136903256, 0.9988383840907419, 0.9968653330818996, 0.5437136089233453, 0.4547422910995252, 0.9965494763293371, 0.9986793662268851, 0.994353065495431, 0.9967600958720828, 0.9837398860347751, 0.9891323579666187, 0.015202708947244252, 0.966457925931956, 0.01737452451113629, 0.9914148679560889, 0.9791219147985272, 0.9988868123250209, 0.9979239262872723, 0.9961865929938957, 0.9737130891992856, 0.999685476286264, 0.27360524483939125, 0.08607805455621297, 0.01024738744716821, 0.41501919161031253, 0.2131456589010988, 0.9800126114313409, 0.46545717331219577, 0.5325259302736073, 0.9882553141761015, 0.6659497115323068, 0.3329748557661534, 0.0962306053783103, 0.9013148250222021, 0.9947211734455258, 0.8436849011425605, 0.15536935288587805, 0.9995532026723355, 0.39611989721579993, 0.5941798458236999, 0.8448732575161848, 0.15495714647657327, 0.46942409028186155, 0.5300601406950192, 0.7321660663929792, 0.2674379044908487, 0.7501411829869884, 0.19007219360804545, 0.05639719091655558, 0.0033174818186209164, 0.9976895169438563, 0.9639011645822856, 0.9988569596965702, 0.1367084550889426, 0.8607052733660978, 0.9659330771286582, 0.7978994929778987, 0.10822085077171499, 0.09354683710775365, 0.9972089796297073, 0.9979038968345622, 0.9822257237125893, 0.9881645018685707, 0.9973861293679548, 0.9855777026037268, 0.9977567994004537, 0.9975462795534867, 0.9961367382447445, 0.6822151736752707, 0.3172896007242843, 0.9126670026622392, 0.0860105028686927, 0.9968430121126766, 0.9967612165160143, 0.14125961583109742, 0.8565742662098461, 0.9962770874405239, 0.9963439875403315, 0.9872065882613887, 0.9974147331889098, 0.3107515939121303, 0.6877968611921818, 0.9963020572413792, 0.17042158402217128, 0.8270919077773267, 0.982931492408225, 0.999074786536402, 0.5701528008831342, 0.21613635589033847, 0.03819651117027533, 0.17421335582540212, 0.9948213329040894, 0.965682899729325, 0.3327911907962173, 0.6602999817385263, 0.9975220523838016, 0.9994967587409094, 0.9993962274234223, 0.995280031825783, 0.8616314025819934, 0.1364460285613714, 0.9919025345709189, 0.9982005113115271, 0.9539020584880608, 0.04549493789505216, 0.8856121885067253, 0.11401508703015453, 0.9995669481315069, 0.00029394705135465574, 0.9991526112570648, 0.9983145607037223, 0.9955026332554039, 0.35754786152373097, 0.6198366212546431, 0.02153116684358234, 0.9996894217978058, 0.966475579213071, 0.9958443233069761, 0.2450649737573738, 0.24342024238987464, 0.510689089608487, 0.9917912762890382, 0.9974239281726521, 0.9953753024283452, 0.8946987128928681, 0.10485166355734385, 0.9963466641730045, 0.9935512893889922, 0.9994737933650872, 0.9972419818406315, 0.9968854681087269, 0.9997056446091902, 0.9954359258014419, 0.99806265754895, 0.9833273874834384, 0.76632906844236, 0.012717200275318821, 0.22066697514766176, 0.9912889641321275, 0.9819205616790195, 0.017823640558530057, 0.9983494350420915, 0.9995753393848416, 0.9981710567117217, 0.996515611884073, 0.27020408641260757, 0.7290516828463375, 0.9899738515079393, 0.9887353339371617, 0.966319306941473, 0.9962964135981531, 0.9962647528405159, 0.9842149956376097, 0.9909176676395057, 0.9931860888269405, 0.997535630264658, 0.20693378528873918, 0.789881399943602, 0.9896274166247845, 0.9993235729647797, 0.9993193434207969, 0.9977711753330256, 0.9950531443005849, 0.6138005014269368, 0.38582644223916573, 0.9989290726254684, 0.994257001146501, 0.9932137340248531, 0.9615353878918173, 0.5173442333433999, 0.4756789259600388, 0.9989194877164792, 0.9968804984196202, 0.6338789447331185, 0.3631955034687057, 0.9994379956311884, 0.22087065275641257, 0.7058936821427165, 0.0727311442410005, 0.09259862905630142, 0.5801882851808886, 0.324095201697055, 0.9774025026720088, 0.998974050019752, 0.9742002904039511, 0.9964466080705943, 0.9978577581390476, 0.9890505755701272, 0.9971585657594957, 0.8371225790366158, 0.1624372042284302, 0.9879469491973131, 0.009765538212823522, 0.15300440577496338, 0.8454983721720379, 0.9984285735660091, 0.9741105899860656, 0.023083189336162692, 0.9926528290216725, 0.8354631826257632, 0.9919672971277008, 0.9972911262507531, 0.9991963043298893, 0.9945358016111756, 0.865097506759866, 0.13404258071773748, 0.9927606757868929, 0.9902664745545315, 0.17372107395889722, 0.8245268883422285, 0.9074804548246725, 0.9939990165881344, 0.9781621106413404, 0.9993865958706226, 0.9960758296908503, 0.9975474133566434, 0.9941322737538473, 0.9990065113089729, 0.9968604165308836, 0.580141073074179, 0.32732909233976876, 0.09207349915635928, 0.9912348124946666, 0.9921152061652638, 0.9949148769826374, 0.984844748215579, 0.9965302263216262, 0.9947053787302926, 0.9884470501551065, 0.9939349070020349, 0.9960467964201128, 0.29470209061315805, 0.7052046321985301, 0.9736376534986128, 0.9969632811244532, 0.9980182433514073, 0.9964236434234407, 0.9585444202538049, 0.9517960003501773, 0.9991183627369407, 0.28975821417364733, 0.3695184155727456, 0.34023582414999975, 0.9951830278221199, 0.9961793507632697, 0.9962323613211708, 0.16922823244136587, 0.8281927133115329, 0.9481403629747699, 0.9742701331336788, 0.9954191998515691, 0.2691560686739735, 0.7304831549602423, 0.9989018605930964, 0.9936954801799858, 0.20584258777600029, 0.573332148893742, 0.20705342652762382, 0.013319226267858841, 0.9855335590077675, 0.9982434051580477, 0.9972240832704709, 0.9957312099607375, 0.9989562358120703, 0.998586201805857, 0.9834365233425866, 0.9872721789093026, 0.5231557334520343, 0.30517417784702, 0.17112293548856222, 0.10853580856976329, 0.8907758703338231, 0.8953428161407275, 0.09716898779821849, 0.9979907391582401, 0.9836018648950683, 0.9953530310892418, 0.704353109604441, 0.014087062192088818, 0.029739353516631952, 0.2512192757589173, 0.9853579552601796, 0.9984014671109173, 0.998792894960343, 0.9998383761723255, 0.9068341889066776, 0.0894902160105274, 0.9956402407792118, 0.9796771362085616, 0.9841796992425939, 0.755455584396508, 0.23945243969710744, 0.6692481262180944, 0.2453278727650016, 0.004733013622475915, 0.08046123158209055, 0.9970607354575717, 0.9947336995078295, 0.9914843137760878, 0.9933442043467188, 0.9944262925027815, 0.9974224853814906, 0.9975553372567815, 0.0017281166518090627, 0.9975650523452982, 0.9992167767693221, 0.9974187936581229, 0.34965224589332417, 0.018643429610006215, 0.6317660298032295, 0.9920798733899963, 0.9950392707846802, 0.9969034119616959, 0.16407602698477766, 0.3912324079023533, 0.1073708152047625, 0.3372114665024572, 0.9358936557008134, 0.016755129385948066, 0.04667500328942675, 0.9990831748625424, 0.999216132150283, 0.9909311647087637, 0.9907976277585917, 0.7323841037872416, 0.1338299818518439, 0.13364122306220802, 0.9955635724418856, 0.9942913856591166, 0.9965176213454591, 0.859878243142753, 0.13943971510423023, 0.013956682968242038, 0.9829492433347606, 0.06490411442079345, 0.9259653657366533, 0.008653881922772461, 0.9991630699321948, 0.9829628484938071, 0.9658867554590382, 0.11717304091910379, 0.8812054721176436, 0.15332300342550043, 0.010873971874148966, 0.8351210399346407, 0.9850144085923634, 0.9907330524722545, 0.9810768653238835, 0.9953784607658488, 0.9983295696092481, 0.9675107778900901, 0.9855789018567389, 0.06299794667443005, 0.25771887275903205, 0.6729326122041392, 0.9981136815614926, 0.9929216787481167, 0.6760279969148715, 0.3212331616545843, 0.9985077237632635, 0.9878097409523846, 0.9981718851004618, 0.9986535865768659, 0.9935208999550472, 0.9986772970110164, 0.2826536717033679, 0.3059310329024688, 0.4056911523271869, 0.9898598843193797, 0.9725966536685304, 0.019328420750360443, 0.9306276657580954, 0.04939485302869891, 0.9952302097416064, 0.9912180537630269, 0.9977663803975, 0.9502342905831277, 0.32443577119502554, 0.5947300315282061, 0.08059232532870061, 0.9357700676971404, 0.9954041374545359, 0.9909906514007167, 0.9846632153557664, 0.9108654174071632, 0.08833062620317719, 0.3027189710909852, 0.05138403199330376, 0.6199595164409476, 0.024574971822884407, 0.9983693417825733, 0.9991083249156353, 0.9893763506684552, 0.04176633283857011, 0.06787029086267644, 0.5516636462427803, 0.33761119044510846, 0.998674685244769, 0.9925624586465526, 0.9973070648562513, 0.9959435491967291, 0.9959844502784961, 0.9982520446736117, 0.9937331238231674, 0.9708003649237964, 0.9860443167503083, 0.9997345151182715, 0.996685132536128, 0.9946711908310338, 0.9928327400779483, 0.9975193352526894, 0.9977392732491421, 0.9787677669153491, 0.9842639435566863, 0.9909160724057844, 0.9969830530017987, 0.9984063309888331, 0.9828469481239422, 0.970443171374598, 0.9108605289659234, 0.0878105789209689, 0.9977809040843201, 0.0554704340843856, 0.937954612699611, 0.9975497805594942, 0.9925653942810352, 0.992941102393519, 0.9982952154135012, 0.92316785692269, 0.07444902071957178, 0.30179076687631556, 0.6042025024087553, 0.09314529841861592, 0.9936263656984611, 0.9975501584383922, 0.990378005350486, 0.9995697896081938, 0.9961248313060579, 0.30973624866108285, 0.5519096328833459, 0.1377580482713598, 0.9970450346893928, 0.9712934636083872, 0.9968164812009325, 0.09130291570972107, 0.08318710097996809, 0.4544856248661671, 0.10956349885166529, 0.2597060713520955, 0.9988606627300247, 0.9969996494855171, 0.9671510675839239, 0.010886483292332584, 0.003594593539921136, 0.01817837304474403, 0.989547797045364, 0.994647591894671, 0.9895844794450778, 0.9951416798527998, 0.28242864762368325, 0.019613100529422448, 0.6943037587415547, 0.99612237339332, 0.9944246811302435, 0.0051187044887378, 0.9876165939238196, 0.996524836822307, 0.9943373791969665, 0.9973003023450842, 0.9977325926830446, 0.9988208150598487, 0.9936880694733886, 0.9961846217664527, 0.399024225785631, 0.5909213725374993, 0.00522169106807805, 0.004351409223398375, 0.9777606003015951, 0.9907521359764551, 0.9967774564206714, 0.9950258388886171, 0.9970068045485024, 0.9937895112268496, 0.6499067648064152, 0.06523049447503503, 0.2846639593450977, 0.17771765386982774, 0.7487888218006751, 0.07315532734727823, 0.9957965013405892, 0.9982789497651119, 0.9968729102865952, 0.092829793189782, 0.9056062046736512, 0.9958000938091115, 0.18103829614700526, 0.7920425456431479, 0.9686874895254782, 0.9943606001594358, 0.9956778630782287, 0.9747706721594982, 0.027129136016097104, 0.9723653487874804, 0.9958220087877581, 0.9609087298899146, 0.9893093668797963, 0.9171608280421158, 0.08260079324645847, 0.9943990253196129, 0.997979668489946, 0.5923403248078778, 0.40034035745635876, 0.9987683062462669, 0.9796430564720509, 0.9973531001259597, 0.9809880992037066, 0.9980984363507054, 0.8949282389666434, 0.10485417650380634, 0.9967978258330636, 0.998454238400657, 0.9925000767903817, 0.9931713644138619, 0.15377672101863088, 0.8347879141011391, 0.9957614146044149, 0.7329332641088225, 0.013489569278076489, 0.2518052931907611, 0.9994170475949573, 0.9888436489014759, 0.9991722256391986, 0.008555977871709445, 0.9896414404943926, 0.9871313990661597, 0.9993364829903439, 0.9739815333625457, 0.9977764175830467, 0.14134532675386377, 0.8566383439628108, 0.02421160564448511, 0.9748357009490057, 0.037586914972947444, 0.5090885952032123, 0.07374647874439055, 0.3106867781941099, 0.06851285767220801, 0.6944089926431224, 0.301403052125951, 0.9968622681551123, 0.2807261513698489, 0.2107841409602961, 0.4100709651409397, 0.09868530235868408, 0.8763693939233285, 0.12287719015327092, 0.9134230844990578, 0.05544980168411016, 0.029972865775194677, 0.9991081424106382, 0.9503701506181298, 0.11217039839785058, 0.19097729368249433, 0.6718719247625101, 0.024159778116460126, 0.9929961671573089, 0.9973210894852627, 0.9825549528017951, 0.16624388270564996, 0.8329451285736371, 0.1203044370315585, 0.8141893835232572, 0.03492709462206537, 0.029493991014188536, 0.002932304221824624, 0.9968291036192235, 0.17066724540319403, 0.6823609179929148, 0.1466382830540079, 0.9378377131340614, 0.042136784801957074, 0.019538285690292947, 0.99780183011396, 0.9641439244791444, 0.9981545271400876, 0.9669290481393432, 0.9996502345739672, 0.9982535797600053, 0.6409406579214233, 0.35503085463294526, 0.9961692189677623, 0.9975074676845432, 0.9778214060321228, 0.9894126432502545, 0.9983726528486286, 0.9994351083338449, 0.996158449993139, 0.9759711251263073, 0.9844749231289852, 0.04735434234478836, 0.08593936203313442, 0.18064804672271112, 0.6848840994681427, 0.9981823352793415, 0.9972534844980796, 0.44738005708666895, 0.16400216556543723, 0.1472672507118212, 0.24120590609011924, 0.9631349180644452, 0.979013568210791, 0.9911818997319779, 0.9995251093920814, 0.09127974086829514, 0.3597251606036904, 0.17509113930191159, 0.3663636872122937, 0.007053434521640988, 0.8613117522395706, 0.06566251003537525, 0.07292168199908508, 0.9999837155918148, 0.145511999271438, 0.8534082119432984, 0.9996342147990083, 0.996579612093153, 0.9975855316220694, 0.9903462787416377, 0.9483736050263727, 0.05123628586477225, 0.026924595180795895, 0.9723450395973791, 0.2766395971866955, 0.7218976155157577, 0.3356200054613724, 0.6637983256575258, 0.9922958316705112, 0.630218614568453, 0.3613547712954667, 0.008277827686976177, 0.8763013776545144, 0.11535851469123438, 0.008043345978471388, 0.995472946957847, 0.9816262156201127, 0.9976972008656394, 0.15698053977114382, 0.841557329750568, 0.9996779914714717, 0.99664720520068, 0.28068868350981485, 0.7187060558658954, 0.9947319465479075, 0.9994573402417959, 0.9967689976845946, 0.9497372888053899, 0.9943844053335986, 0.9844216180954605, 0.4722047533874226, 0.03443159660116624, 0.49187995144523194, 0.9975470867397476, 0.9995686955891505, 0.9773652739193571, 0.995598431813279, 0.10115801895002716, 0.8789454473140127, 0.0014416819802854227, 0.018261305083615356, 0.9943589633166063, 0.9973651838073696, 0.995823929150394, 0.9957283983212066, 0.647304036737956, 0.04756392959245704, 0.28900519655924406, 0.015693682352841156, 0.1789138690050661, 0.12457087141006938, 0.6947543230991118, 0.9050801308159061, 0.9903149083241122, 0.2638739737685264, 0.7345886416726124, 0.9943676669520302, 0.9956036682299315, 0.9948044974108181, 0.9986711173424215, 0.986801797566418, 0.5831803470388238, 0.3702212315471185, 0.044229970140584954, 0.9903043305876452, 0.9965800235275214, 0.9988410958047573, 0.9421870187205903, 0.17925030750791582, 0.8188479956611608, 0.9919189978449685, 0.9950785950033043, 0.9935756325002046, 0.9748994685057927, 0.8301554987482798, 0.13342623748981972, 0.036175423544775064, 0.9992639578354435, 0.8479486851635026, 0.15134781496417127, 0.8586179556435023, 0.13923534415840577, 0.9836024596360313, 0.9534404955183672, 0.983856904175764, 0.39649380582267646, 0.32802709193061635, 0.05824780137085711, 0.21664094544950363, 0.9714274265001276, 0.9959890243024047, 0.9979616901214474, 0.9977599820409017, 0.9943681699997599, 0.9978186253078186, 0.9966057941896305, 0.037282579096307986, 0.9620619548415107, 0.0005713805225487814, 0.9908881273040839, 0.9025412256033323, 0.6697288792249494, 0.04787948395505306, 0.13604780196984587, 0.14597403644833248, 0.9730249662966172], \"Term\": [\"_\", \"adnagaporp\", \"aibmuloc\", \"ailartsua\", \"ainavlysnnep\", \"ainemra\", \"ainigriv\", \"aissur\", \"aitilim\", \"an_noitubirtsid\", \"ap\", \"aremac\", \"asan\", \"asi\", \"asn\", \"asr\", \"asu\", \"asu\", \"atnalta\", \"atoyot\", \"bara\", \"bmob\", \"bmud\", \"bor\", \"buc\", \"cam\", \"ced\", \"cibuc\", \"cihparg\", \"cilbup\", \"cilbup\", \"cimalsi\", \"cinhte\", \"cinortcele\", \"citamehcs\", \"citamehtam\", \"citamotua_imes\", \"citsitats\", \"cni\", \"cni\", \"cni\", \"cp\", \"cs\", \"cs\", \"cs\", \"ct\", \"d\", \"d\", \"dab\", \"daer\", \"daer\", \"daer\", \"daer\", \"daor\", \"daor\", \"daor\", \"ddo\", \"deedni\", \"deen\", \"deen\", \"deen\", \"deeps\", \"deeps\", \"deeps\", \"deeps\", \"detaler\", \"detseretni\", \"detseretni\", \"detseretni\", \"dioretsa\", \"dlihc\", \"dlihc\", \"dliub\", \"dliub\", \"dlo\", \"dm\", \"dm\", \"dnab\", \"dnal\", \"dnal\", \"dnalaez_wen\", \"dnalnif\", \"dnapxe\", \"dnes\", \"dnes\", \"dnes\", \"dnes\", \"dnetxe\", \"dnetxe\", \"dnif\", \"dnif\", \"dnif\", \"dnif\", \"dnopser_esaelp\", \"dnuopmoc\", \"dnuorg\", \"dnuorg\", \"dnuorg\", \"dog\", \"doog\", \"doolb\", \"doolb\", \"drac\", \"dradnats\", \"dradnats\", \"dradnats\", \"drahcir\", \"drakcap_ttelweh\", \"draob\", \"draob\", \"draobrehtom\", \"drof\", \"drol\", \"drow\", \"drow\", \"drow\", \"drowyek\", \"drowyek\", \"druk\", \"ebyam\", \"ecaep\", \"ecaps\", \"eci\", \"eciffo\", \"eciffo\", \"ecirp\", \"ecirp\", \"ecirp\", \"eciton\", \"ecived\", \"ecived\", \"ecivres\", \"ecivres\", \"ecnanetniam\", \"ecnarelot\", \"ecnarusni\", \"ecnatsid\", \"ecnavda\", \"ecnedive\", \"ecneics\", \"ecneics\", \"ecneics\", \"ecnerefnoc\", \"ecnivnoc\", \"ecrof\", \"ecrof\", \"ecrof\", \"ecrof\", \"ecruos\", \"ecruos\", \"ecruos\", \"ecruos\", \"edargpu\", \"edart\", \"edart\", \"edart\", \"edesrepus\", \"edi\", \"ediconeg\", \"edir\", \"edivorp\", \"edivorp\", \"edivorp\", \"edoc\", \"edolpxe\", \"edom\", \"edom\", \"edulcni\", \"edulcni\", \"edulcni\", \"edulcni\", \"edulcni\", \"edulcni\", \"eef\", \"eeknay\", \"ees\", \"ees\", \"efil\", \"efil\", \"egalliv\", \"egami\", \"egap\", \"egap\", \"egap\", \"egap\", \"egdelwonk\", \"egdirbmac\", \"egdirbmac\", \"egnahcxe\", \"egnahcxe\", \"egnaro\", \"egnarra\", \"ehcsrop\", \"eid\", \"ekam\", \"ekam\", \"ekat\", \"eksa_yltneuqerf\", \"elas\", \"elasrof\", \"elbaliava\", \"elbatrop\", \"elbib\", \"elcihev\", \"elcihev\", \"elcitra\", \"elfir\", \"elibomotua\", \"elif\", \"elif\", \"elim\", \"elim\", \"elim\", \"eloh\", \"eloh\", \"elohssa\", \"elpoep\", \"elpoep\", \"elpoep\", \"elppa\", \"elttil\", \"elttuhs\", \"eludehcs\", \"eludehcs\", \"emag\", \"emarf\", \"emerpus\", \"emirc\", \"emirc\", \"emirc\", \"emit\", \"emoc\", \"emoc\", \"enalp\", \"enegue\", \"enigne\", \"enihcam\", \"enihcam\", \"enil\", \"enil\", \"enoz\", \"enozo\", \"enyaw\", \"epacse\", \"epat\", \"epocs\", \"epocselet\", \"eravat\", \"erawa\", \"erawaled\", \"erawdrah\", \"erawdrah\", \"erawdrah\", \"erawtfos\", \"erawtfos\", \"ercassam\", \"erehpsomta\", \"ereves\", \"ereves\", \"erif\", \"erif\", \"erif\", \"erit\", \"eriw\", \"erocs\", \"erofereht\", \"ertnec\", \"eruces\", \"erus\", \"erusne\", \"erussa\", \"erutaef\", \"erutan\", \"erutpac\", \"erutpircs\", \"esac\", \"esac\", \"esac\", \"esac\", \"esac\", \"esaercni\", \"esaercni\", \"esaesid\", \"esahcrup\", \"esahp\", \"eslaf\", \"esnefed_fles\", \"esnes\", \"esol\", \"esoporp\", \"esopxe\", \"esrevinu\", \"esrevinu\", \"esserpxe_snoinipo\", \"esu\", \"esu\", \"esu\", \"esuac\", \"esuac\", \"esualc\", \"esucxe\", \"esuom\", \"etabed\", \"etacol\", \"etadpu\", \"etaicerppa\", \"etaicerppa_yltaerg\", \"etaicossa\", \"etaicossa\", \"etaicossa\", \"etar\", \"etar\", \"etartnecnoc\", \"etats\", \"etats\", \"etats\", \"etats\", \"etats_detinu\", \"etats_nnep\", \"etavirp\", \"etilletas\", \"etirw\", \"etirw\", \"etov\", \"etsop_ptnn\", \"etsop_ptnn\", \"etuor\", \"etutitsni\", \"etutitsni\", \"eulb\", \"eurt\", \"eurt\", \"eurt\", \"eus\", \"eussi\", \"eussi\", \"eussi\", \"evad\", \"eveileb\", \"eveileb\", \"evets\", \"evig\", \"evig\", \"evig\", \"evird\", \"evird\", \"evird\", \"evisnepxe\", \"evisserpmi\", \"evitcejbo\", \"evorp\", \"ezilitu\", \"ezirammus\", \"ezirp\", \"feileb\", \"fig\", \"fitom\", \"fles\", \"fles\", \"foorp\", \"fta\", \"ftab\", \"gab\", \"gib\", \"gnigami\", \"gniht\", \"gniht\", \"gnimit\", \"gninaem\", \"gnir\", \"gnireenigne\", \"gnivird\", \"gniw\", \"gniyub\", \"gnol\", \"gua\", \"gulp\", \"gurd\", \"hcnual\", \"hcraeser\", \"hcram\", \"hcruhc\", \"hcum\", \"hgrubsttip\", \"hgrubsttip\", \"hguone\", \"hsarc\", \"hserok\", \"hsikrut\", \"hsilbup\", \"hsiwej\", \"htaed\", \"htaed\", \"htiaf\", \"htlaeh\", \"htrae\", \"htrae\", \"htuos\", \"hturt\", \"ibf\", \"ics\", \"if\", \"igs\", \"ii\", \"ii\", \"ii\", \"iiww\", \"iknisleh\", \"ilearsi\", \"iscs\", \"itna\", \"kael\", \"kcab\", \"kcatta\", \"kcatta\", \"kcatta\", \"kcatta\", \"kcatta\", \"kcilc\", \"kcip\", \"kcip\", \"kcirb\", \"kcolb\", \"kcolb\", \"keerg\", \"keerg\", \"kees\", \"klat\", \"klat\", \"knaht\", \"knat\", \"knat\", \"kniht\", \"kniht\", \"koob\", \"koob\", \"kool\", \"kool\", \"krow\", \"krow\", \"krow\", \"krow\", \"krut\", \"ks\", \"ksid\", \"ksir\", \"ksir\", \"lacigoloib\", \"lacinhcet\", \"lacinhcet\", \"lacinhcet\", \"lairetam\", \"lairt\", \"lairtsudni\", \"laivirt\", \"lamina\", \"lamreht\", \"lamron\", \"langis\", \"lanimirc\", \"lanoitan\", \"lanoitan\", \"lanoitanretni\", \"lanoitanretni\", \"lanretni\", \"lanretxe\", \"laog\", \"laog\", \"laredef\", \"larom\", \"latibro\", \"latigid\", \"latsni\", \"latsni\", \"laud\", \"laudividni\", \"laudividni\", \"lausunu\", \"learsi\", \"ledom\", \"ledom\", \"ledom\", \"ledom\", \"lennahc\", \"letoh\", \"leuf\", \"leuf\", \"lhn\", \"liam\", \"liame\", \"lio\", \"lirpa\", \"lirpa\", \"lived\", \"llabesab\", \"lles\", \"lles\", \"llet\", \"llet\", \"llew\", \"llew\", \"lli\", \"llib\", \"llih\", \"llik\", \"llik\", \"llik\", \"llits\", \"lluh\", \"ln\", \"lortnoc\", \"lortnoc\", \"lortnoc\", \"lov\", \"lp_noisrev\", \"luos\", \"m\", \"m\", \"maerd\", \"maerts\", \"maet\", \"malsi\", \"mar\", \"margorp\", \"mas\", \"mbi\", \"melasurej\", \"melborp\", \"melborp\", \"melborp\", \"melsom\", \"metsys\", \"metsys\", \"mhtirogla\", \"mialc\", \"milsum\", \"mit\", \"moc\", \"moc\", \"mor\", \"mor_dc\", \"mota\", \"mr\", \"mraerif\", \"mrala\", \"mrasid\", \"mrifnoc\", \"msiehta\", \"msirorret\", \"msirorret\", \"muidats\", \"mutad\", \"nacirema\", \"nacs\", \"nad\", \"naem\", \"naem\", \"naf\", \"nagihcim\", \"naidanac\", \"nailartsua\", \"nailivic\", \"nailivic\", \"nainemra\", \"nairb\", \"naissur\", \"naissur\", \"naitsirhc\", \"nam\", \"nam\", \"nam\", \"namow\", \"namow\", \"namow\", \"namselas\", \"namuh\", \"natit\", \"nav\", \"neercs\", \"nek\", \"nep\", \"neve\", \"neve\", \"nezitic\", \"nezitic\", \"nialpxe\", \"nialpxe\", \"niarb\", \"niatbo\", \"niatbo\", \"nilloc\", \"nilloc_trof\", \"nim\", \"nip\", \"niw\", \"noci\", \"noigiler\", \"noigiler\", \"noisavni\", \"noisiv\", \"noisivid\", \"noisivid\", \"noisluporp\", \"noisnapxe\", \"noisnepsus\", \"noisrev\", \"noissim\", \"noisulcnoc\", \"noitacificeps\", \"noitacilppa\", \"noitalever\", \"noitamrofni\", \"noitamrofni\", \"noitamrofni\", \"noitapucco\", \"noitartsiger\", \"noitarugifnoc\", \"noitasinagro\", \"noitaterpretni\", \"noitatnemelpmi\", \"noitats_ecaps\", \"noitatskrow\", \"noitavresbo\", \"noitazinagro\", \"noitazinagro\", \"noitcerroc\", \"noitcetorp\", \"noitcnuf\", \"noitcudorp\", \"noiteled\", \"noitingocer\", \"noitpyrcne\", \"noitseuq\", \"noitseuq\", \"noitseuq\", \"noituloser\", \"noitutitsnoc\", \"noom\", \"nopaew\", \"nopaew\", \"nori\", \"nortcele\", \"nos\", \"nosaer\", \"nosaer\", \"nosaes\", \"nosaj\", \"nosrep\", \"nosrep\", \"nosrep\", \"nosrep\", \"nossel\", \"notnilc\", \"notsob\", \"nrehtron\", \"nrut\", \"nug\", \"nugdnah\", \"nugtohs\", \"nur\", \"nur\", \"nur\", \"nus\", \"nus\", \"nwo\", \"nwo\", \"nworb\", \"obrut\", \"oc\", \"od\", \"od\", \"od\", \"od\", \"oe\", \"oediv\", \"ofni\", \"og\", \"ogacihc\", \"ogacihc\", \"oib\", \"oiratno\", \"ollopa\", \"om\", \"om\", \"osla\", \"osla\", \"osla\", \"osla\", \"otnorot\", \"otua\", \"oud\", \"pac\", \"pam\", \"pat\", \"peek\", \"peek\", \"pets\", \"pihc\", \"pihc_reppilc\", \"pleh\", \"pleh\", \"pleh\", \"poort\", \"pop\", \"proc\", \"puorg\", \"puorg\", \"puorg\", \"puorg\", \"qaf\", \"qaf\", \"qaf\", \"rac\", \"raeh\", \"raelcun\", \"raer\", \"raey\", \"raey\", \"raey\", \"ram\", \"ranul\", \"rats\", \"raw\", \"raw\", \"rd\", \"rd\", \"rebmem\", \"rebmem\", \"rebmem\", \"rebmemer\", \"rebotco\", \"redmuzom\", \"redrum\", \"redrum\", \"reffo\", \"reffo\", \"reffo\", \"reffub\", \"regor\", \"rehtael\", \"rehtaf\", \"reidlos\", \"rekab\", \"rekaeps\", \"relaed\", \"relaed\", \"relaed\", \"rellortnoc\", \"reltih\", \"renwo\", \"renwo\", \"repap\", \"repmub\", \"reppilc\", \"resu\", \"retaw\", \"retcarahc\", \"retep\", \"retep\", \"retep\", \"rethguals\", \"retibro\", \"retnec\", \"retnec\", \"retnec\", \"retniop\", \"retnirp\", \"retsam\", \"retuo\", \"retupmoc\", \"retupmoc\", \"retupmoc\", \"rev\", \"reviecer\", \"reviled\", \"revir\", \"revird\", \"revird\", \"revoc\", \"revoc\", \"revoc\", \"revoc\", \"revres\", \"reyalp\", \"riaf\", \"rm\", \"rm\", \"rm\", \"rm\", \"roloc\", \"rossecorp\", \"rotcaf\", \"rotcennoc\", \"rotcod\", \"rotinom\", \"rotom\", \"rotsevni_laiceps\", \"ruot\", \"s\", \"saxet\", \"scisyhp\", \"sdc\", \"sionilli\", \"sirhc\", \"siuol\", \"sixa\", \"sm\", \"sr\", \"ssecca\", \"ssecca_cilbup\", \"sseldeen\", \"sserdda\", \"sserdda\", \"ssergnoc\", \"ssorc\", \"ssorc\", \"sub\", \"sucof\", \"sunev\", \"suoigiler\", \"suoires\", \"suoires\", \"swen\", \"swen\", \"swen\", \"sys\", \"tae\", \"taeh\", \"taerg\", \"tap\", \"tcaf\", \"tcaf\", \"tcaf\", \"tcapmi\", \"tcartsba\", \"tcejer\", \"tcejorp\", \"tcejorp\", \"tcejorp\", \"tcejorp\", \"tcejorp\", \"tcetorp\", \"teem\", \"teg\", \"teg\", \"teg\", \"teg\", \"teid\", \"teivos\", \"tekcap\", \"tekcit\", \"tekcor\", \"tekcor\", \"tekcor\", \"tekram\", \"tel\", \"tel\", \"tem\", \"temleh\", \"tenalp\", \"tenesu\", \"tenlet\", \"tenretni\", \"tenuu\", \"terces\", \"tes\", \"tes\", \"tes\", \"tes\", \"tfahs\", \"tfarcecaps\", \"tfard\", \"tfig\", \"thgiew\", \"thgilf\", \"thgir\", \"thgir\", \"thgir\", \"tib\", \"tib\", \"tib\", \"tibro\", \"tifeneb\", \"tiorted\", \"tisiv\", \"tisiv\", \"tiucric\", \"tluassa\", \"tluassa\", \"tluc\", \"tlusnoc\", \"tnacifingis\", \"tnaillirb\", \"tnarg\", \"tnarg\", \"tnatibahni\", \"tnatlusnoc_sitnam\", \"tnatsid\", \"tnaw\", \"tnaw\", \"tnecrep\", \"tnediserp\", \"tnega\", \"tnega\", \"tneitap\", \"tnemdnema_dnoces\", \"tnemecnuonna\", \"tnemecrofne\", \"tnemetats\", \"tnemnrevog\", \"tnemnrevog\", \"tnemtaert\", \"tnemugra\", \"tnerehni\", \"tnialpmoc\", \"tniap\", \"tniap\", \"tnof\", \"tnorf\", \"tnorf\", \"tnorf\", \"tol\", \"toob\", \"tpecca\", \"tped\", \"tped\", \"tped_sc\", \"trats\", \"tresed\", \"trevnoc\", \"trop\", \"trop\", \"troper\", \"troper\", \"troppus\", \"troppus\", \"troppus\", \"troppus\", \"troppus\", \"trops\", \"trops\", \"truoc\", \"tsaf\", \"tsaf\", \"tsaf\", \"tsaf\", \"tseggus\", \"tseggus\", \"tset\", \"tset\", \"tset\", \"tsiehta\", \"tsiehta_lacitilop\", \"tsil\", \"tsil\", \"tsil\", \"tsil\", \"tsin\", \"tsirhc\", \"tsisnoc\", \"tsixe\", \"tsixe\", \"tsoc\", \"tsoc\", \"tsoc\", \"tsoc\", \"tsoh\", \"tsoh\", \"tsop\", \"tsop\", \"tsop\", \"tsrif\", \"tsrif\", \"tsrif\", \"tsurt\", \"ttip\", \"ttocs\", \"tuo\", \"tup\", \"tupni\", \"tuptuo\", \"tuptuo\", \"txetnoc\", \"um\", \"umc\", \"unem\", \"upc\", \"wal\", \"wardhtiw\", \"was\", \"wehtam\", \"weiv\", \"weiv\", \"weiv\", \"weiv\", \"weiver\", \"wej\", \"wen\", \"wen\", \"wen\", \"wen\", \"wenten\", \"werdna_op\", \"wm\", \"wodniw\", \"wollof\", \"wollof\", \"wollof\", \"wollof\", \"wollof\", \"wonk\", \"wonk\", \"wonk\", \"xa\", \"xaf\", \"xaf\", \"xam\", \"xat\", \"xinu\", \"xl\", \"yad\", \"yad\", \"yalp\", \"yalp\", \"yalpsid\", \"yalpsid\", \"yap\", \"yap\", \"yar\", \"yas\", \"yas\", \"yas\", \"yaw\", \"yaw\", \"yaw\", \"yawetag\", \"ycaripsnoc\", \"ycnega\", \"yduts\", \"yduts\", \"yek\", \"yekrut\", \"ygolonhcet\", \"ygolonhcet\", \"yks\", \"ylbaborp\", \"ylbissop\", \"yldegella\", \"ylekilnu\", \"ylevitisop\", \"ylf\", \"ylf\", \"ylf\", \"ylimaf\", \"yllaer\", \"yllaitrap\", \"yloh\", \"ylper\", \"ylper\", \"ylper\", \"ylper\", \"ylpmi\", \"ylralucitrap\", \"ymonortsa\", \"ymra\", \"ynam\", \"ynam\", \"ynam\", \"ynam\", \"ynapmoc\", \"ynapmoc\", \"ynapmoc\", \"ynomrah\", \"yob\", \"ypoc\", \"ypoc\", \"yppolf\", \"ypucco\", \"yrag\", \"yrarbil\", \"yratenalp\", \"yratilim\", \"yratilim\", \"yratilim\", \"yraurbef\", \"yrettab\", \"yromem\", \"yrossecca\", \"yrotarobal\", \"yrotarobal\", \"yrotcaf\", \"yrotcerid\", \"yrotirret\", \"yrrah\", \"yrt\", \"yrt\", \"yrt\", \"yrtne\", \"yrtnuoc\", \"yrtnuoc\", \"yrtsudni\", \"yrtsudni\", \"yrub\", \"yrucrem\", \"yruxul\", \"ytic\", \"ytic\", \"ytic\", \"ytic\", \"ytilibani\", \"ytilicaf\", \"ytinaitsirhc\", \"ytinummoc\", \"ytinutroppo\", \"ytirohtua\", \"ytironim\", \"ytisrevinu\", \"ytisrevinu\", \"ytisrevinu\", \"ytliug\", \"ytsenoh\", \"yub\", \"yub\", \"yub\", \"yub\", \"yzzuf\"]}, \"R\": 30, \"lambda.step\": 0.01, \"plot.opts\": {\"xlab\": \"PC1\", \"ylab\": \"PC2\"}, \"topic.order\": [10, 13, 3, 7, 11, 19, 18, 1, 16, 14, 5, 20, 8, 17, 15, 9, 2, 6, 12, 4]};\n",
       "\n",
       "function LDAvis_load_lib(url, callback){\n",
       "  var s = document.createElement('script');\n",
       "  s.src = url;\n",
       "  s.async = true;\n",
       "  s.onreadystatechange = s.onload = callback;\n",
       "  s.onerror = function(){console.warn(\"failed to load library \" + url);};\n",
       "  document.getElementsByTagName(\"head\")[0].appendChild(s);\n",
       "}\n",
       "\n",
       "if(typeof(LDAvis) !== \"undefined\"){\n",
       "   // already loaded: just create the visualization\n",
       "   !function(LDAvis){\n",
       "       new LDAvis(\"#\" + \"ldavis_el165291402063565448644441036175\", ldavis_el165291402063565448644441036175_data);\n",
       "   }(LDAvis);\n",
       "}else if(typeof define === \"function\" && define.amd){\n",
       "   // require.js is available: use it to load d3/LDAvis\n",
       "   require.config({paths: {d3: \"https://d3js.org/d3.v5\"}});\n",
       "   require([\"d3\"], function(d3){\n",
       "      window.d3 = d3;\n",
       "      LDAvis_load_lib(\"https://cdn.jsdelivr.net/gh/bmabey/pyLDAvis@3.3.1/pyLDAvis/js/ldavis.v3.0.0.js\", function(){\n",
       "        new LDAvis(\"#\" + \"ldavis_el165291402063565448644441036175\", ldavis_el165291402063565448644441036175_data);\n",
       "      });\n",
       "    });\n",
       "}else{\n",
       "    // require.js not available: dynamically load d3 & LDAvis\n",
       "    LDAvis_load_lib(\"https://d3js.org/d3.v5.js\", function(){\n",
       "         LDAvis_load_lib(\"https://cdn.jsdelivr.net/gh/bmabey/pyLDAvis@3.3.1/pyLDAvis/js/ldavis.v3.0.0.js\", function(){\n",
       "                 new LDAvis(\"#\" + \"ldavis_el165291402063565448644441036175\", ldavis_el165291402063565448644441036175_data);\n",
       "            })\n",
       "         });\n",
       "}\n",
       "</script>"
      ],
      "text/plain": [
       "PreparedData(topic_coordinates=              x         y  topics  cluster       Freq\n",
       "topic                                                \n",
       "9     -0.359984  0.058513       1        1  41.624886\n",
       "12    -0.252661 -0.148240       2        1   9.766968\n",
       "2     -0.235236 -0.170215       3        1   9.288860\n",
       "6     -0.301914  0.177762       4        1   8.730195\n",
       "10    -0.170629  0.194753       5        1   5.948657\n",
       "18     0.022621 -0.036901       6        1   5.544736\n",
       "17    -0.064420 -0.150838       7        1   3.584368\n",
       "0     -0.020962 -0.220133       8        1   2.604725\n",
       "15     0.002082 -0.001346       9        1   2.598467\n",
       "13    -0.009419  0.048288      10        1   2.483097\n",
       "4      0.009445  0.170727      11        1   1.908615\n",
       "19     0.115882 -0.081703      12        1   0.947664\n",
       "7      0.126912  0.031188      13        1   0.910990\n",
       "16     0.140805  0.018171      14        1   0.872379\n",
       "14     0.150740  0.013390      15        1   0.851275\n",
       "8      0.126356  0.011966      16        1   0.814512\n",
       "1      0.168583  0.018114      17        1   0.551949\n",
       "5      0.175413  0.026874      18        1   0.438776\n",
       "11     0.181087  0.018998      19        1   0.346873\n",
       "3      0.195299  0.020632      20        1   0.182008, topic_info=               Term          Freq         Total Category  logprob  loglift\n",
       "5686             xa  52570.000000  52570.000000  Default  30.0000   30.000\n",
       "7              enil  18952.000000  18952.000000  Default  29.0000   29.000\n",
       "24     noitazinagro  17400.000000  17400.000000  Default  28.0000   28.000\n",
       "1080              _   8691.000000   8691.000000  Default  27.0000   27.000\n",
       "11       etsop_ptnn   7224.000000   7224.000000  Default  26.0000   26.000\n",
       "...             ...           ...           ...      ...      ...      ...\n",
       "24604           q_r      0.026439      1.311192  Topic20 -11.5534    2.405\n",
       "5706             xc      0.026443      1.311366  Topic20 -11.5533    2.405\n",
       "5542             km      0.026440      1.311214  Topic20 -11.5534    2.405\n",
       "8133             dl      0.026438      1.311205  Topic20 -11.5535    2.405\n",
       "70047           wiu      0.026437      1.311184  Topic20 -11.5535    2.405\n",
       "\n",
       "[866 rows x 6 columns], token_table=      Topic      Freq          Term\n",
       "term                               \n",
       "1080      6  0.999923             _\n",
       "3242     13  0.984106    adnagaporp\n",
       "1773     13  0.987194      aibmuloc\n",
       "3947     17  0.990897     ailartsua\n",
       "3949     19  0.984287  ainavlysnnep\n",
       "...     ...       ...           ...\n",
       "542       1  0.669729           yub\n",
       "542       7  0.047879           yub\n",
       "542       8  0.136048           yub\n",
       "542      12  0.145974           yub\n",
       "4030     19  0.973025         yzzuf\n",
       "\n",
       "[1126 rows x 3 columns], R=30, lambda_step=0.01, plot_opts={'xlab': 'PC1', 'ylab': 'PC2'}, topic_order=[10, 13, 3, 7, 11, 19, 18, 1, 16, 14, 5, 20, 8, 17, 15, 9, 2, 6, 12, 4])"
      ]
     },
     "execution_count": 18,
     "metadata": {},
     "output_type": "execute_result"
    }
   ],
   "source": [
    "#inserted import (old version conflict solved)\n",
    "import pyLDAvis.gensim_models\n",
    "\n",
    "# Visualize the topics\n",
    "pyLDAvis.enable_notebook()\n",
    "vis = pyLDAvis.gensim_models.prepare(lda_model, corpus, id2word)\n",
    "vis"
   ]
  }
 ],
 "metadata": {
  "kernelspec": {
   "display_name": "arabpdf",
   "language": "python",
   "name": "arabpdf"
  },
  "language_info": {
   "codemirror_mode": {
    "name": "ipython",
    "version": 3
   },
   "file_extension": ".py",
   "mimetype": "text/x-python",
   "name": "python",
   "nbconvert_exporter": "python",
   "pygments_lexer": "ipython3",
   "version": "3.8.5"
  }
 },
 "nbformat": 4,
 "nbformat_minor": 5
}
